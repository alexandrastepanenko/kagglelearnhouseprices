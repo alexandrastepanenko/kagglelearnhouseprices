{
 "cells": [
  {
   "cell_type": "markdown",
   "metadata": {},
   "source": [
    "# Introduction\n",
    "\n",
    "After completing the Python, Pandas, Intro to Machine Learning and Intermediate Machine Learning courses on Kaggle, I decided to apply these skills to a dataset.\n",
    "\n",
    "The data I am using is from the [Housing Prices Competition for Kaggle Learn Users](https://www.kaggle.com/c/home-data-for-ml-course/overview). In the dataset, we are provided with 79 columns describing various features of properties. The train data also includes Sales Price, the target we will try to predict for the test data.\n",
    "\n",
    "#### Steps taken\n",
    "\n",
    "1. Data Exploration\n",
    "2. Handling missing data\n",
    "3. Preprocessing of categorical data\n",
    "4. Basic feature engineering\n",
    "5. Testing for category discrepancies between the train and test data\n",
    "6. Creating a pipeline\n",
    "7. Model tuning\n",
    "8. Generating predictions\n",
    "\n",
    "#### Results\n",
    "\n",
    "My best score upon submitting my test data predictions to kaggle was a RMSE of 13851, which is in the top 2% for this competition."
   ]
  },
  {
   "cell_type": "code",
   "execution_count": 3,
   "metadata": {
    "execution": {
     "iopub.execute_input": "2021-05-30T20:14:47.8082Z",
     "iopub.status.busy": "2021-05-30T20:14:47.807694Z",
     "iopub.status.idle": "2021-05-30T20:14:48.748392Z",
     "shell.execute_reply": "2021-05-30T20:14:48.74737Z",
     "shell.execute_reply.started": "2021-05-30T20:14:47.808148Z"
    },
    "scrolled": true
   },
   "outputs": [],
   "source": [
    "# Import required tools and libraries \n",
    "import pandas as pd\n",
    "from sklearn.model_selection import train_test_split\n",
    "from sklearn.preprocessing import OrdinalEncoder, OneHotEncoder \n",
    "from sklearn.compose import ColumnTransformer\n",
    "from sklearn.pipeline import Pipeline\n",
    "from sklearn.impute import SimpleImputer\n",
    "from sklearn.model_selection import cross_val_score, RandomizedSearchCV, GridSearchCV\n",
    "from xgboost import XGBRegressor\n",
    "import warnings"
   ]
  },
  {
   "cell_type": "code",
   "execution_count": 4,
   "metadata": {},
   "outputs": [],
   "source": [
    "# Load train and test data\n",
    "\n",
    "train_data = pd.read_csv('Data/train.csv')\n",
    "\n",
    "test_data = pd.read_csv('Data/test.csv')"
   ]
  },
  {
   "cell_type": "markdown",
   "metadata": {},
   "source": [
    "## Separate target from predictors"
   ]
  },
  {
   "cell_type": "code",
   "execution_count": 5,
   "metadata": {},
   "outputs": [],
   "source": [
    "# Remove any rows in the train data without sale price information as this is the target\n",
    "train_data.dropna(axis=0, subset=['SalePrice'], inplace=True)\n",
    "\n",
    "# Creating X (predictors) and y (target)\n",
    "y = train_data.SalePrice\n",
    "train_data.drop(['SalePrice'], axis=1, inplace=True)\n",
    "X_train = train_data.copy()"
   ]
  },
  {
   "cell_type": "code",
   "execution_count": 6,
   "metadata": {},
   "outputs": [],
   "source": [
    "# Suppress warnings regarding XGBoost and memory usage\n",
    "warnings.filterwarnings(action='ignore', category=UserWarning)"
   ]
  },
  {
   "cell_type": "markdown",
   "metadata": {},
   "source": [
    "# Data exploration"
   ]
  },
  {
   "cell_type": "code",
   "execution_count": 7,
   "metadata": {},
   "outputs": [
    {
     "name": "stdout",
     "output_type": "stream",
     "text": [
      "(1460, 80)\n",
      "Index(['Id', 'MSSubClass', 'MSZoning', 'LotFrontage', 'LotArea', 'Street',\n",
      "       'Alley', 'LotShape', 'LandContour', 'Utilities', 'LotConfig',\n",
      "       'LandSlope', 'Neighborhood', 'Condition1', 'Condition2', 'BldgType',\n",
      "       'HouseStyle', 'OverallQual', 'OverallCond', 'YearBuilt', 'YearRemodAdd',\n",
      "       'RoofStyle', 'RoofMatl', 'Exterior1st', 'Exterior2nd', 'MasVnrType',\n",
      "       'MasVnrArea', 'ExterQual', 'ExterCond', 'Foundation', 'BsmtQual',\n",
      "       'BsmtCond', 'BsmtExposure', 'BsmtFinType1', 'BsmtFinSF1',\n",
      "       'BsmtFinType2', 'BsmtFinSF2', 'BsmtUnfSF', 'TotalBsmtSF', 'Heating',\n",
      "       'HeatingQC', 'CentralAir', 'Electrical', '1stFlrSF', '2ndFlrSF',\n",
      "       'LowQualFinSF', 'GrLivArea', 'BsmtFullBath', 'BsmtHalfBath', 'FullBath',\n",
      "       'HalfBath', 'BedroomAbvGr', 'KitchenAbvGr', 'KitchenQual',\n",
      "       'TotRmsAbvGrd', 'Functional', 'Fireplaces', 'FireplaceQu', 'GarageType',\n",
      "       'GarageYrBlt', 'GarageFinish', 'GarageCars', 'GarageArea', 'GarageQual',\n",
      "       'GarageCond', 'PavedDrive', 'WoodDeckSF', 'OpenPorchSF',\n",
      "       'EnclosedPorch', '3SsnPorch', 'ScreenPorch', 'PoolArea', 'PoolQC',\n",
      "       'Fence', 'MiscFeature', 'MiscVal', 'MoSold', 'YrSold', 'SaleType',\n",
      "       'SaleCondition'],\n",
      "      dtype='object')\n"
     ]
    },
    {
     "data": {
      "text/html": [
       "<div>\n",
       "<style scoped>\n",
       "    .dataframe tbody tr th:only-of-type {\n",
       "        vertical-align: middle;\n",
       "    }\n",
       "\n",
       "    .dataframe tbody tr th {\n",
       "        vertical-align: top;\n",
       "    }\n",
       "\n",
       "    .dataframe thead th {\n",
       "        text-align: right;\n",
       "    }\n",
       "</style>\n",
       "<table border=\"1\" class=\"dataframe\">\n",
       "  <thead>\n",
       "    <tr style=\"text-align: right;\">\n",
       "      <th></th>\n",
       "      <th>Id</th>\n",
       "      <th>MSSubClass</th>\n",
       "      <th>LotFrontage</th>\n",
       "      <th>LotArea</th>\n",
       "      <th>OverallQual</th>\n",
       "      <th>OverallCond</th>\n",
       "      <th>YearBuilt</th>\n",
       "      <th>YearRemodAdd</th>\n",
       "      <th>MasVnrArea</th>\n",
       "      <th>BsmtFinSF1</th>\n",
       "      <th>...</th>\n",
       "      <th>GarageArea</th>\n",
       "      <th>WoodDeckSF</th>\n",
       "      <th>OpenPorchSF</th>\n",
       "      <th>EnclosedPorch</th>\n",
       "      <th>3SsnPorch</th>\n",
       "      <th>ScreenPorch</th>\n",
       "      <th>PoolArea</th>\n",
       "      <th>MiscVal</th>\n",
       "      <th>MoSold</th>\n",
       "      <th>YrSold</th>\n",
       "    </tr>\n",
       "  </thead>\n",
       "  <tbody>\n",
       "    <tr>\n",
       "      <th>count</th>\n",
       "      <td>1460.000000</td>\n",
       "      <td>1460.000000</td>\n",
       "      <td>1201.000000</td>\n",
       "      <td>1460.000000</td>\n",
       "      <td>1460.000000</td>\n",
       "      <td>1460.000000</td>\n",
       "      <td>1460.000000</td>\n",
       "      <td>1460.000000</td>\n",
       "      <td>1452.000000</td>\n",
       "      <td>1460.000000</td>\n",
       "      <td>...</td>\n",
       "      <td>1460.000000</td>\n",
       "      <td>1460.000000</td>\n",
       "      <td>1460.000000</td>\n",
       "      <td>1460.000000</td>\n",
       "      <td>1460.000000</td>\n",
       "      <td>1460.000000</td>\n",
       "      <td>1460.000000</td>\n",
       "      <td>1460.000000</td>\n",
       "      <td>1460.000000</td>\n",
       "      <td>1460.000000</td>\n",
       "    </tr>\n",
       "    <tr>\n",
       "      <th>mean</th>\n",
       "      <td>730.500000</td>\n",
       "      <td>56.897260</td>\n",
       "      <td>70.049958</td>\n",
       "      <td>10516.828082</td>\n",
       "      <td>6.099315</td>\n",
       "      <td>5.575342</td>\n",
       "      <td>1971.267808</td>\n",
       "      <td>1984.865753</td>\n",
       "      <td>103.685262</td>\n",
       "      <td>443.639726</td>\n",
       "      <td>...</td>\n",
       "      <td>472.980137</td>\n",
       "      <td>94.244521</td>\n",
       "      <td>46.660274</td>\n",
       "      <td>21.954110</td>\n",
       "      <td>3.409589</td>\n",
       "      <td>15.060959</td>\n",
       "      <td>2.758904</td>\n",
       "      <td>43.489041</td>\n",
       "      <td>6.321918</td>\n",
       "      <td>2007.815753</td>\n",
       "    </tr>\n",
       "    <tr>\n",
       "      <th>std</th>\n",
       "      <td>421.610009</td>\n",
       "      <td>42.300571</td>\n",
       "      <td>24.284752</td>\n",
       "      <td>9981.264932</td>\n",
       "      <td>1.382997</td>\n",
       "      <td>1.112799</td>\n",
       "      <td>30.202904</td>\n",
       "      <td>20.645407</td>\n",
       "      <td>181.066207</td>\n",
       "      <td>456.098091</td>\n",
       "      <td>...</td>\n",
       "      <td>213.804841</td>\n",
       "      <td>125.338794</td>\n",
       "      <td>66.256028</td>\n",
       "      <td>61.119149</td>\n",
       "      <td>29.317331</td>\n",
       "      <td>55.757415</td>\n",
       "      <td>40.177307</td>\n",
       "      <td>496.123024</td>\n",
       "      <td>2.703626</td>\n",
       "      <td>1.328095</td>\n",
       "    </tr>\n",
       "    <tr>\n",
       "      <th>min</th>\n",
       "      <td>1.000000</td>\n",
       "      <td>20.000000</td>\n",
       "      <td>21.000000</td>\n",
       "      <td>1300.000000</td>\n",
       "      <td>1.000000</td>\n",
       "      <td>1.000000</td>\n",
       "      <td>1872.000000</td>\n",
       "      <td>1950.000000</td>\n",
       "      <td>0.000000</td>\n",
       "      <td>0.000000</td>\n",
       "      <td>...</td>\n",
       "      <td>0.000000</td>\n",
       "      <td>0.000000</td>\n",
       "      <td>0.000000</td>\n",
       "      <td>0.000000</td>\n",
       "      <td>0.000000</td>\n",
       "      <td>0.000000</td>\n",
       "      <td>0.000000</td>\n",
       "      <td>0.000000</td>\n",
       "      <td>1.000000</td>\n",
       "      <td>2006.000000</td>\n",
       "    </tr>\n",
       "    <tr>\n",
       "      <th>25%</th>\n",
       "      <td>365.750000</td>\n",
       "      <td>20.000000</td>\n",
       "      <td>59.000000</td>\n",
       "      <td>7553.500000</td>\n",
       "      <td>5.000000</td>\n",
       "      <td>5.000000</td>\n",
       "      <td>1954.000000</td>\n",
       "      <td>1967.000000</td>\n",
       "      <td>0.000000</td>\n",
       "      <td>0.000000</td>\n",
       "      <td>...</td>\n",
       "      <td>334.500000</td>\n",
       "      <td>0.000000</td>\n",
       "      <td>0.000000</td>\n",
       "      <td>0.000000</td>\n",
       "      <td>0.000000</td>\n",
       "      <td>0.000000</td>\n",
       "      <td>0.000000</td>\n",
       "      <td>0.000000</td>\n",
       "      <td>5.000000</td>\n",
       "      <td>2007.000000</td>\n",
       "    </tr>\n",
       "    <tr>\n",
       "      <th>50%</th>\n",
       "      <td>730.500000</td>\n",
       "      <td>50.000000</td>\n",
       "      <td>69.000000</td>\n",
       "      <td>9478.500000</td>\n",
       "      <td>6.000000</td>\n",
       "      <td>5.000000</td>\n",
       "      <td>1973.000000</td>\n",
       "      <td>1994.000000</td>\n",
       "      <td>0.000000</td>\n",
       "      <td>383.500000</td>\n",
       "      <td>...</td>\n",
       "      <td>480.000000</td>\n",
       "      <td>0.000000</td>\n",
       "      <td>25.000000</td>\n",
       "      <td>0.000000</td>\n",
       "      <td>0.000000</td>\n",
       "      <td>0.000000</td>\n",
       "      <td>0.000000</td>\n",
       "      <td>0.000000</td>\n",
       "      <td>6.000000</td>\n",
       "      <td>2008.000000</td>\n",
       "    </tr>\n",
       "    <tr>\n",
       "      <th>75%</th>\n",
       "      <td>1095.250000</td>\n",
       "      <td>70.000000</td>\n",
       "      <td>80.000000</td>\n",
       "      <td>11601.500000</td>\n",
       "      <td>7.000000</td>\n",
       "      <td>6.000000</td>\n",
       "      <td>2000.000000</td>\n",
       "      <td>2004.000000</td>\n",
       "      <td>166.000000</td>\n",
       "      <td>712.250000</td>\n",
       "      <td>...</td>\n",
       "      <td>576.000000</td>\n",
       "      <td>168.000000</td>\n",
       "      <td>68.000000</td>\n",
       "      <td>0.000000</td>\n",
       "      <td>0.000000</td>\n",
       "      <td>0.000000</td>\n",
       "      <td>0.000000</td>\n",
       "      <td>0.000000</td>\n",
       "      <td>8.000000</td>\n",
       "      <td>2009.000000</td>\n",
       "    </tr>\n",
       "    <tr>\n",
       "      <th>max</th>\n",
       "      <td>1460.000000</td>\n",
       "      <td>190.000000</td>\n",
       "      <td>313.000000</td>\n",
       "      <td>215245.000000</td>\n",
       "      <td>10.000000</td>\n",
       "      <td>9.000000</td>\n",
       "      <td>2010.000000</td>\n",
       "      <td>2010.000000</td>\n",
       "      <td>1600.000000</td>\n",
       "      <td>5644.000000</td>\n",
       "      <td>...</td>\n",
       "      <td>1418.000000</td>\n",
       "      <td>857.000000</td>\n",
       "      <td>547.000000</td>\n",
       "      <td>552.000000</td>\n",
       "      <td>508.000000</td>\n",
       "      <td>480.000000</td>\n",
       "      <td>738.000000</td>\n",
       "      <td>15500.000000</td>\n",
       "      <td>12.000000</td>\n",
       "      <td>2010.000000</td>\n",
       "    </tr>\n",
       "  </tbody>\n",
       "</table>\n",
       "<p>8 rows × 37 columns</p>\n",
       "</div>"
      ],
      "text/plain": [
       "                Id   MSSubClass  LotFrontage        LotArea  OverallQual  \\\n",
       "count  1460.000000  1460.000000  1201.000000    1460.000000  1460.000000   \n",
       "mean    730.500000    56.897260    70.049958   10516.828082     6.099315   \n",
       "std     421.610009    42.300571    24.284752    9981.264932     1.382997   \n",
       "min       1.000000    20.000000    21.000000    1300.000000     1.000000   \n",
       "25%     365.750000    20.000000    59.000000    7553.500000     5.000000   \n",
       "50%     730.500000    50.000000    69.000000    9478.500000     6.000000   \n",
       "75%    1095.250000    70.000000    80.000000   11601.500000     7.000000   \n",
       "max    1460.000000   190.000000   313.000000  215245.000000    10.000000   \n",
       "\n",
       "       OverallCond    YearBuilt  YearRemodAdd   MasVnrArea   BsmtFinSF1  ...  \\\n",
       "count  1460.000000  1460.000000   1460.000000  1452.000000  1460.000000  ...   \n",
       "mean      5.575342  1971.267808   1984.865753   103.685262   443.639726  ...   \n",
       "std       1.112799    30.202904     20.645407   181.066207   456.098091  ...   \n",
       "min       1.000000  1872.000000   1950.000000     0.000000     0.000000  ...   \n",
       "25%       5.000000  1954.000000   1967.000000     0.000000     0.000000  ...   \n",
       "50%       5.000000  1973.000000   1994.000000     0.000000   383.500000  ...   \n",
       "75%       6.000000  2000.000000   2004.000000   166.000000   712.250000  ...   \n",
       "max       9.000000  2010.000000   2010.000000  1600.000000  5644.000000  ...   \n",
       "\n",
       "        GarageArea   WoodDeckSF  OpenPorchSF  EnclosedPorch    3SsnPorch  \\\n",
       "count  1460.000000  1460.000000  1460.000000    1460.000000  1460.000000   \n",
       "mean    472.980137    94.244521    46.660274      21.954110     3.409589   \n",
       "std     213.804841   125.338794    66.256028      61.119149    29.317331   \n",
       "min       0.000000     0.000000     0.000000       0.000000     0.000000   \n",
       "25%     334.500000     0.000000     0.000000       0.000000     0.000000   \n",
       "50%     480.000000     0.000000    25.000000       0.000000     0.000000   \n",
       "75%     576.000000   168.000000    68.000000       0.000000     0.000000   \n",
       "max    1418.000000   857.000000   547.000000     552.000000   508.000000   \n",
       "\n",
       "       ScreenPorch     PoolArea       MiscVal       MoSold       YrSold  \n",
       "count  1460.000000  1460.000000   1460.000000  1460.000000  1460.000000  \n",
       "mean     15.060959     2.758904     43.489041     6.321918  2007.815753  \n",
       "std      55.757415    40.177307    496.123024     2.703626     1.328095  \n",
       "min       0.000000     0.000000      0.000000     1.000000  2006.000000  \n",
       "25%       0.000000     0.000000      0.000000     5.000000  2007.000000  \n",
       "50%       0.000000     0.000000      0.000000     6.000000  2008.000000  \n",
       "75%       0.000000     0.000000      0.000000     8.000000  2009.000000  \n",
       "max     480.000000   738.000000  15500.000000    12.000000  2010.000000  \n",
       "\n",
       "[8 rows x 37 columns]"
      ]
     },
     "execution_count": 7,
     "metadata": {},
     "output_type": "execute_result"
    }
   ],
   "source": [
    "# Have a look at the structure of the data and columns within it\n",
    "print(X_train.shape)\n",
    "\n",
    "print(X_train.columns)\n",
    "\n",
    "X_train.describe()"
   ]
  },
  {
   "cell_type": "code",
   "execution_count": 8,
   "metadata": {},
   "outputs": [
    {
     "name": "stdout",
     "output_type": "stream",
     "text": [
      "Number of numerical columns:  37\n",
      "Number of categorical columns:  43\n"
     ]
    }
   ],
   "source": [
    "# Select columns with numerical data\n",
    "numeric_cols = [cname for cname in train_data.columns if train_data[cname].dtype in ['int64', 'float64']]\n",
    "\n",
    "# Select columns with categorical data\n",
    "object_cols = [col for col in train_data.columns if train_data[col].dtype == \"object\"]\n",
    "\n",
    "print(\"Number of numerical columns: \", len(numeric_cols))\n",
    "print(\"Number of categorical columns: \", len(object_cols))"
   ]
  },
  {
   "cell_type": "markdown",
   "metadata": {},
   "source": [
    "The data columns in the dataset can be split into the following categories:\n",
    "\n",
    "**Numerical**\n",
    "- Columns with no missing data in both the training and test data - no actions required\n",
    "- Columns with missing data - either data will need to be imputed or the column should be dropped  \n",
    "    \n",
    "    \n",
    "\n",
    "**Categorical**  \n",
    "\n",
    "*Because we will be using a Regressor model, all columns will ultimately need to be in a numerical format*\n",
    "- Columns with missing data - either data will need to be imputed or the column should be dropped\n",
    "- Columns with no missing data or where missing data has been imputed - use ordinal encoding or one-hot encoding"
   ]
  },
  {
   "cell_type": "markdown",
   "metadata": {},
   "source": [
    "# Testing RMSE function\n",
    "\n",
    "The funtion below uses cross_val_score() to calculate root mean squared error (RMSE), averaged across five different folds. This function will be used to determine the best approach for processing data by indicating which approach results in the lowest RMSE.  \n",
    "\n",
    "We are using RMSE as this is the scoring metric used for this kaggle competition."
   ]
  },
  {
   "cell_type": "code",
   "execution_count": 9,
   "metadata": {},
   "outputs": [],
   "source": [
    "# Define function\n",
    "\n",
    "def RMSE_score(X):\n",
    "    model_1 = XGBRegressor(random_state=0)\n",
    "\n",
    "    scores = -1 * cross_val_score(model_1, X, y,\n",
    "                                  cv=5,\n",
    "                                  scoring='neg_root_mean_squared_error')\n",
    "\n",
    "    print(\"Average RMSE score:\", scores.mean())"
   ]
  },
  {
   "cell_type": "code",
   "execution_count": 10,
   "metadata": {},
   "outputs": [
    {
     "name": "stdout",
     "output_type": "stream",
     "text": [
      "Average RMSE score: 30306.791836659908\n"
     ]
    }
   ],
   "source": [
    "# Select numeric columns only as have not yet done any preprocessing\n",
    "X_numeric = train_data[numeric_cols].copy()\n",
    "\n",
    "# Measure 'base' RMSE\n",
    "RMSE_score(X_numeric)"
   ]
  },
  {
   "cell_type": "markdown",
   "metadata": {},
   "source": [
    "# Missing Data\n",
    "\n",
    "Both the train and test data will be examined for missing data to ensure even if columns only have missing data in the test data, this has been taken into consideration."
   ]
  },
  {
   "cell_type": "markdown",
   "metadata": {},
   "source": [
    "## Numerical missing data"
   ]
  },
  {
   "cell_type": "code",
   "execution_count": 11,
   "metadata": {},
   "outputs": [
    {
     "name": "stdout",
     "output_type": "stream",
     "text": [
      "LotFrontage    259\n",
      "GarageYrBlt     81\n",
      "MasVnrArea       8\n",
      "dtype: int64\n"
     ]
    }
   ],
   "source": [
    "# Get numerical columns with missing data from the train dataset\n",
    "\n",
    "missing_data_count_by_column = X_numeric[numeric_cols].isnull().sum()\n",
    "print(missing_data_count_by_column[missing_data_count_by_column > 0].sort_values(ascending=False))"
   ]
  },
  {
   "cell_type": "markdown",
   "metadata": {},
   "source": [
    "Let's check if there is missing data in the test data, and if there is, that it is from the same columns as the train data:"
   ]
  },
  {
   "cell_type": "code",
   "execution_count": 12,
   "metadata": {},
   "outputs": [
    {
     "name": "stdout",
     "output_type": "stream",
     "text": [
      "LotFrontage     227\n",
      "GarageYrBlt      78\n",
      "MasVnrArea       15\n",
      "BsmtFullBath      2\n",
      "BsmtHalfBath      2\n",
      "BsmtFinSF1        1\n",
      "BsmtFinSF2        1\n",
      "BsmtUnfSF         1\n",
      "TotalBsmtSF       1\n",
      "GarageCars        1\n",
      "GarageArea        1\n",
      "dtype: int64\n"
     ]
    }
   ],
   "source": [
    "# Get numerical columns with missing data from the test dataset\n",
    "\n",
    "missing_testdata_count_by_column = test_data[numeric_cols].isnull().sum()\n",
    "print(missing_testdata_count_by_column[missing_testdata_count_by_column > 0].sort_values(ascending=False))"
   ]
  },
  {
   "cell_type": "markdown",
   "metadata": {},
   "source": [
    "The first three columns (which have the most missing data) are also missing in the training data. The other columns are missing one or two values each:\n",
    "- BsmtFullBath: Basement full bathrooms\n",
    "- BsmtHalfBath: Basement half bathrooms\n",
    "- GarageCars: Size of garage in car capacity\n",
    "- GarageArea: Size of garage in square feet\n",
    "- TotalBsmtSF: Total square feet of basement area\n",
    "- BsmtUnfSF: Unfinished square feet of basement area\n",
    "- BsmtFinSF2: Type 2 finished square feet\n",
    "- BsmtFinSF1: Type 1 finished square feet\n",
    "\n",
    "There should be no issues using imputation on these columns."
   ]
  },
  {
   "cell_type": "markdown",
   "metadata": {},
   "source": [
    "Let's investigate the three columns with the most missing data.\n",
    "\n",
    "#### LotFrontage\n",
    "\n",
    "From the data descrption document: 'Linear feet of street connected to property'\n",
    "\n",
    "All (or the vast majority of) lots will have a frontage, so this can be be imputed using the mean or median value of the column as they are almost identical and the data looks normally distributed."
   ]
  },
  {
   "cell_type": "code",
   "execution_count": 13,
   "metadata": {},
   "outputs": [
    {
     "name": "stdout",
     "output_type": "stream",
     "text": [
      "69.0\n",
      "70.04995836802665\n"
     ]
    }
   ],
   "source": [
    "print(X_numeric['LotFrontage'].median())\n",
    "print(X_numeric['LotFrontage'].mean())"
   ]
  },
  {
   "cell_type": "code",
   "execution_count": 14,
   "metadata": {},
   "outputs": [
    {
     "data": {
      "text/plain": [
       "array([[<AxesSubplot:title={'center':'LotFrontage'}>]], dtype=object)"
      ]
     },
     "execution_count": 14,
     "metadata": {},
     "output_type": "execute_result"
    },
    {
     "data": {
      "image/png": "[encoded data removed]",
      "text/plain": [
       "<Figure size 432x288 with 1 Axes>"
      ]
     },
     "metadata": {
      "needs_background": "light"
     },
     "output_type": "display_data"
    }
   ],
   "source": [
    "X_numeric.hist(column = 'LotFrontage')"
   ]
  },
  {
   "cell_type": "markdown",
   "metadata": {},
   "source": [
    "#### GarageYrBlt\n",
    "\n",
    "From the data descrption document: 'Year garage was built'\n",
    "\n",
    "These values could be missing either because the information wasn't recorded or, more likely, there is no garage. However, having the value '0' to represent no garage would not make sense in this scenario because the other values are dates, and zero values in this case would not work well with regression. \n",
    "\n",
    "We have the option to either drop this column, or to fill it with the median (as the data is not normally distributed).\n",
    "\n",
    "The benefit of imputing the missing information rather than dropping the column is we retain all the information within the column. The risk is that if we are imputing a year built for a garage (that never existed), this may create noise in the model which makes it less effective. \n",
    "\n",
    "We can investigate which of these two approaches, imputation or exclusion, gives the lowest RSME later. "
   ]
  },
  {
   "cell_type": "code",
   "execution_count": 15,
   "metadata": {},
   "outputs": [
    {
     "name": "stdout",
     "output_type": "stream",
     "text": [
      "1980.0\n",
      "1978.5061638868744\n",
      "1900.0\n"
     ]
    }
   ],
   "source": [
    "print(X_numeric['GarageYrBlt'].median())\n",
    "print(X_numeric['GarageYrBlt'].mean())\n",
    "\n",
    "#Checking minimum to ensure no values are '0' and can skew results\n",
    "print(X_numeric['GarageYrBlt'].min())"
   ]
  },
  {
   "cell_type": "code",
   "execution_count": 16,
   "metadata": {},
   "outputs": [
    {
     "data": {
      "text/plain": [
       "array([[<AxesSubplot:title={'center':'GarageYrBlt'}>]], dtype=object)"
      ]
     },
     "execution_count": 16,
     "metadata": {},
     "output_type": "execute_result"
    },
    {
     "data": {
      "image/png": "[encoded data removed]",
      "text/plain": [
       "<Figure size 432x288 with 1 Axes>"
      ]
     },
     "metadata": {
      "needs_background": "light"
     },
     "output_type": "display_data"
    }
   ],
   "source": [
    "X_numeric.hist(column = 'GarageYrBlt')"
   ]
  },
  {
   "cell_type": "markdown",
   "metadata": {},
   "source": [
    "#### MasVnrArea\n",
    "\n",
    "From the data descrption document: 'Masonry veneer area in square feet'\n",
    "\n"
   ]
  },
  {
   "cell_type": "code",
   "execution_count": 17,
   "metadata": {},
   "outputs": [
    {
     "name": "stdout",
     "output_type": "stream",
     "text": [
      "0.0\n",
      "103.68526170798899\n",
      "0.0\n"
     ]
    }
   ],
   "source": [
    "print(X_numeric['MasVnrArea'].median())\n",
    "print(X_numeric['MasVnrArea'].mean())\n",
    "print(X_numeric['MasVnrArea'].min())"
   ]
  },
  {
   "cell_type": "code",
   "execution_count": 18,
   "metadata": {},
   "outputs": [
    {
     "data": {
      "text/plain": [
       "array([[<AxesSubplot:title={'center':'MasVnrArea'}>]], dtype=object)"
      ]
     },
     "execution_count": 18,
     "metadata": {},
     "output_type": "execute_result"
    },
    {
     "data": {
      "image/png": "[encoded data removed]",
      "text/plain": [
       "<Figure size 432x288 with 1 Axes>"
      ]
     },
     "metadata": {
      "needs_background": "light"
     },
     "output_type": "display_data"
    }
   ],
   "source": [
    "X_numeric.hist(column = 'MasVnrArea')"
   ]
  },
  {
   "cell_type": "markdown",
   "metadata": {},
   "source": [
    "Investigating the data, we see both the minimum value and median are 0, which means these missing values were likely not collected, rather than indicating an absence of any masonry veneer. We can impute with median as the masonry veneer area data is not normally distributed (we can see this in both the large difference between mean and median and the histogram).\n",
    "\n",
    "In summary, we can use a median imputation strategy for all the numerical columns with missing data."
   ]
  },
  {
   "cell_type": "markdown",
   "metadata": {},
   "source": [
    "#### Testing best handling method for GarageYrBuilt\n",
    "\n",
    "First we'll impute all the missing numerical data and calculate the RMSE:"
   ]
  },
  {
   "cell_type": "code",
   "execution_count": 19,
   "metadata": {},
   "outputs": [
    {
     "name": "stdout",
     "output_type": "stream",
     "text": [
      "Average RMSE score: 29780.558322489484\n"
     ]
    }
   ],
   "source": [
    "imputer = SimpleImputer(strategy='median')\n",
    "\n",
    "imputed_X_numeric = pd.DataFrame(imputer.fit_transform(X_numeric))\n",
    "\n",
    "imputed_X_numeric.columns = X_numeric.columns\n",
    "\n",
    "RMSE_score(imputed_X_numeric)"
   ]
  },
  {
   "cell_type": "markdown",
   "metadata": {},
   "source": [
    "Next we'll see if dropping the GarageYrBlt column entirely improves the RMSE score:"
   ]
  },
  {
   "cell_type": "code",
   "execution_count": 20,
   "metadata": {},
   "outputs": [
    {
     "name": "stdout",
     "output_type": "stream",
     "text": [
      "Average RMSE score: 30075.872556619765\n"
     ]
    }
   ],
   "source": [
    "imputed_X_numeric_2 = imputed_X_numeric.drop('GarageYrBlt', axis=1)\n",
    "\n",
    "RMSE_score(imputed_X_numeric_2)"
   ]
  },
  {
   "cell_type": "markdown",
   "metadata": {},
   "source": [
    "As we can see, dropping this column did not help lower the RSME score. Therefore our strategy will be to impute missing data in GarageYrBlt rather than to exclude the column."
   ]
  },
  {
   "cell_type": "markdown",
   "metadata": {},
   "source": [
    "## Categorical missing data"
   ]
  },
  {
   "cell_type": "code",
   "execution_count": 21,
   "metadata": {
    "scrolled": true
   },
   "outputs": [
    {
     "name": "stdout",
     "output_type": "stream",
     "text": [
      "PoolQC          1453\n",
      "MiscFeature     1406\n",
      "Alley           1369\n",
      "Fence           1179\n",
      "FireplaceQu      690\n",
      "GarageType        81\n",
      "GarageFinish      81\n",
      "GarageQual        81\n",
      "GarageCond        81\n",
      "BsmtExposure      38\n",
      "BsmtFinType2      38\n",
      "BsmtQual          37\n",
      "BsmtCond          37\n",
      "BsmtFinType1      37\n",
      "MasVnrType         8\n",
      "Electrical         1\n",
      "dtype: int64\n"
     ]
    }
   ],
   "source": [
    "# Create X with only categorical columns\n",
    "X_object = train_data[object_cols].copy()\n",
    "\n",
    "# Get categorical columns with missing data in the train data\n",
    "missing_objdata_count_by_column = X_object[object_cols].isnull().sum()\n",
    "print(missing_objdata_count_by_column[missing_objdata_count_by_column > 0].sort_values(ascending=False))"
   ]
  },
  {
   "cell_type": "markdown",
   "metadata": {},
   "source": [
    "Let's check if there is missing data in the test data, and if there is, that it is from the same columns as the train data:"
   ]
  },
  {
   "cell_type": "code",
   "execution_count": 22,
   "metadata": {},
   "outputs": [
    {
     "name": "stdout",
     "output_type": "stream",
     "text": [
      "PoolQC          1456\n",
      "MiscFeature     1408\n",
      "Alley           1352\n",
      "Fence           1169\n",
      "FireplaceQu      730\n",
      "GarageCond        78\n",
      "GarageQual        78\n",
      "GarageFinish      78\n",
      "GarageType        76\n",
      "BsmtCond          45\n",
      "BsmtQual          44\n",
      "BsmtExposure      44\n",
      "BsmtFinType1      42\n",
      "BsmtFinType2      42\n",
      "MasVnrType        16\n",
      "MSZoning           4\n",
      "Functional         2\n",
      "Utilities          2\n",
      "KitchenQual        1\n",
      "Exterior2nd        1\n",
      "Exterior1st        1\n",
      "SaleType           1\n",
      "dtype: int64\n"
     ]
    }
   ],
   "source": [
    "# Get categorical columns with missing data in the test data\n",
    "missing_objtestdata_count_by_column = test_data[object_cols].isnull().sum()\n",
    "print(missing_objtestdata_count_by_column[missing_objtestdata_count_by_column > 0].sort_values(ascending=False))"
   ]
  },
  {
   "cell_type": "markdown",
   "metadata": {},
   "source": [
    "To make the missing data easier to handle as there's a lot of it in the object columns, let's combine the two lists of missing data into a single dataframe:"
   ]
  },
  {
   "cell_type": "code",
   "execution_count": 23,
   "metadata": {},
   "outputs": [
    {
     "data": {
      "text/html": [
       "<div>\n",
       "<style scoped>\n",
       "    .dataframe tbody tr th:only-of-type {\n",
       "        vertical-align: middle;\n",
       "    }\n",
       "\n",
       "    .dataframe tbody tr th {\n",
       "        vertical-align: top;\n",
       "    }\n",
       "\n",
       "    .dataframe thead th {\n",
       "        text-align: right;\n",
       "    }\n",
       "</style>\n",
       "<table border=\"1\" class=\"dataframe\">\n",
       "  <thead>\n",
       "    <tr style=\"text-align: right;\">\n",
       "      <th></th>\n",
       "      <th>Train data</th>\n",
       "      <th>Test data</th>\n",
       "      <th>Total</th>\n",
       "    </tr>\n",
       "  </thead>\n",
       "  <tbody>\n",
       "    <tr>\n",
       "      <th>PoolQC</th>\n",
       "      <td>1453</td>\n",
       "      <td>1456</td>\n",
       "      <td>2909</td>\n",
       "    </tr>\n",
       "    <tr>\n",
       "      <th>MiscFeature</th>\n",
       "      <td>1406</td>\n",
       "      <td>1408</td>\n",
       "      <td>2814</td>\n",
       "    </tr>\n",
       "    <tr>\n",
       "      <th>Alley</th>\n",
       "      <td>1369</td>\n",
       "      <td>1352</td>\n",
       "      <td>2721</td>\n",
       "    </tr>\n",
       "    <tr>\n",
       "      <th>Fence</th>\n",
       "      <td>1179</td>\n",
       "      <td>1169</td>\n",
       "      <td>2348</td>\n",
       "    </tr>\n",
       "    <tr>\n",
       "      <th>FireplaceQu</th>\n",
       "      <td>690</td>\n",
       "      <td>730</td>\n",
       "      <td>1420</td>\n",
       "    </tr>\n",
       "    <tr>\n",
       "      <th>GarageQual</th>\n",
       "      <td>81</td>\n",
       "      <td>78</td>\n",
       "      <td>159</td>\n",
       "    </tr>\n",
       "    <tr>\n",
       "      <th>GarageFinish</th>\n",
       "      <td>81</td>\n",
       "      <td>78</td>\n",
       "      <td>159</td>\n",
       "    </tr>\n",
       "    <tr>\n",
       "      <th>GarageCond</th>\n",
       "      <td>81</td>\n",
       "      <td>78</td>\n",
       "      <td>159</td>\n",
       "    </tr>\n",
       "    <tr>\n",
       "      <th>GarageType</th>\n",
       "      <td>81</td>\n",
       "      <td>76</td>\n",
       "      <td>157</td>\n",
       "    </tr>\n",
       "    <tr>\n",
       "      <th>BsmtCond</th>\n",
       "      <td>37</td>\n",
       "      <td>45</td>\n",
       "      <td>82</td>\n",
       "    </tr>\n",
       "    <tr>\n",
       "      <th>BsmtExposure</th>\n",
       "      <td>38</td>\n",
       "      <td>44</td>\n",
       "      <td>82</td>\n",
       "    </tr>\n",
       "    <tr>\n",
       "      <th>BsmtQual</th>\n",
       "      <td>37</td>\n",
       "      <td>44</td>\n",
       "      <td>81</td>\n",
       "    </tr>\n",
       "    <tr>\n",
       "      <th>BsmtFinType2</th>\n",
       "      <td>38</td>\n",
       "      <td>42</td>\n",
       "      <td>80</td>\n",
       "    </tr>\n",
       "    <tr>\n",
       "      <th>BsmtFinType1</th>\n",
       "      <td>37</td>\n",
       "      <td>42</td>\n",
       "      <td>79</td>\n",
       "    </tr>\n",
       "    <tr>\n",
       "      <th>MasVnrType</th>\n",
       "      <td>8</td>\n",
       "      <td>16</td>\n",
       "      <td>24</td>\n",
       "    </tr>\n",
       "    <tr>\n",
       "      <th>MSZoning</th>\n",
       "      <td>0</td>\n",
       "      <td>4</td>\n",
       "      <td>4</td>\n",
       "    </tr>\n",
       "    <tr>\n",
       "      <th>Functional</th>\n",
       "      <td>0</td>\n",
       "      <td>2</td>\n",
       "      <td>2</td>\n",
       "    </tr>\n",
       "    <tr>\n",
       "      <th>Utilities</th>\n",
       "      <td>0</td>\n",
       "      <td>2</td>\n",
       "      <td>2</td>\n",
       "    </tr>\n",
       "    <tr>\n",
       "      <th>Electrical</th>\n",
       "      <td>1</td>\n",
       "      <td>0</td>\n",
       "      <td>1</td>\n",
       "    </tr>\n",
       "    <tr>\n",
       "      <th>KitchenQual</th>\n",
       "      <td>0</td>\n",
       "      <td>1</td>\n",
       "      <td>1</td>\n",
       "    </tr>\n",
       "    <tr>\n",
       "      <th>Exterior2nd</th>\n",
       "      <td>0</td>\n",
       "      <td>1</td>\n",
       "      <td>1</td>\n",
       "    </tr>\n",
       "    <tr>\n",
       "      <th>Exterior1st</th>\n",
       "      <td>0</td>\n",
       "      <td>1</td>\n",
       "      <td>1</td>\n",
       "    </tr>\n",
       "    <tr>\n",
       "      <th>SaleType</th>\n",
       "      <td>0</td>\n",
       "      <td>1</td>\n",
       "      <td>1</td>\n",
       "    </tr>\n",
       "  </tbody>\n",
       "</table>\n",
       "</div>"
      ],
      "text/plain": [
       "              Train data  Test data  Total\n",
       "PoolQC              1453       1456   2909\n",
       "MiscFeature         1406       1408   2814\n",
       "Alley               1369       1352   2721\n",
       "Fence               1179       1169   2348\n",
       "FireplaceQu          690        730   1420\n",
       "GarageQual            81         78    159\n",
       "GarageFinish          81         78    159\n",
       "GarageCond            81         78    159\n",
       "GarageType            81         76    157\n",
       "BsmtCond              37         45     82\n",
       "BsmtExposure          38         44     82\n",
       "BsmtQual              37         44     81\n",
       "BsmtFinType2          38         42     80\n",
       "BsmtFinType1          37         42     79\n",
       "MasVnrType             8         16     24\n",
       "MSZoning               0          4      4\n",
       "Functional             0          2      2\n",
       "Utilities              0          2      2\n",
       "Electrical             1          0      1\n",
       "KitchenQual            0          1      1\n",
       "Exterior2nd            0          1      1\n",
       "Exterior1st            0          1      1\n",
       "SaleType               0          1      1"
      ]
     },
     "execution_count": 23,
     "metadata": {},
     "output_type": "execute_result"
    }
   ],
   "source": [
    "#Concatenate the datasets\n",
    "all_missing_obj_data = pd.concat([missing_objdata_count_by_column,missing_objtestdata_count_by_column],axis=1)\n",
    "\n",
    "#Rename columns\n",
    "all_missing_obj_data = all_missing_obj_data.rename(columns = {0:'Train data',1:'Test data'})\n",
    "\n",
    "#Create a count of total number of missing data across both the train and test datasets\n",
    "all_missing_obj_data['Total'] = all_missing_obj_data['Train data'] + all_missing_obj_data['Test data']\n",
    "\n",
    "#Display all missing categorical data, starting with columns with the most total missing data\n",
    "all_missing_obj_data.loc[all_missing_obj_data['Total']>0].sort_values('Total', ascending=False)"
   ]
  },
  {
   "cell_type": "markdown",
   "metadata": {},
   "source": [
    "Let's start with the columns with a high proportion of missing data, as there are likely to be good reasons why there is so much missing data. \n",
    "\n",
    "Looking at the data descriptions for these columns, we can see that **missing data represents missing features**: \n",
    "\n",
    "#### PoolQC\n",
    "PoolQC: Pool quality\n",
    "\t\t\n",
    "       Ex\tExcellent\n",
    "       Gd\tGood\n",
    "       TA\tAverage/Typical\n",
    "       Fa\tFair\n",
    "       NA\tNo Pool\n",
    "\n",
    "This column has ordinal columns with a clear ranking, so we can use ordinal encoding with NA or None representing No Pool. We will have to impute all 'nan' values."
   ]
  },
  {
   "cell_type": "markdown",
   "metadata": {},
   "source": [
    "#### MiscFeature\n",
    "MiscFeature: Miscellaneous feature not covered in other categories\n",
    "\t\t\n",
    "       Elev\tElevator\n",
    "       Gar2\t2nd Garage (if not described in garage section)\n",
    "       Othr\tOther\n",
    "       Shed\tShed (over 100 SF)\n",
    "       TenC\tTennis Court\n",
    "       NA\tNone\n",
    "\n",
    "This column can be one-hot coded."
   ]
  },
  {
   "cell_type": "markdown",
   "metadata": {},
   "source": [
    "#### Alley\n",
    "Alley: Type of alley access to property\n",
    "\n",
    "       Grvl\tGravel\n",
    "       Pave\tPaved\n",
    "       NA \tNo alley access\n",
    "\n",
    "This column can be one-hot coded. "
   ]
  },
  {
   "cell_type": "markdown",
   "metadata": {},
   "source": [
    "#### Fence\n",
    "Fence: Fence quality\n",
    "\t\t\n",
    "       GdPrv\tGood Privacy\n",
    "       MnPrv\tMinimum Privacy\n",
    "       GdWo\tGood Wood\n",
    "       MnWw\tMinimum Wood/Wire\n",
    "       NA\tNo Fence\n",
    "\n",
    "While Good Privacy can be ranked with Minimum Privacy and No Fence (and equally Good Wood with Minimum Wood/Wire and No Fence), privacy and fence material are more difficult to rank (possibly these should have been two separate columns as privacy and wood type are not mutually exclusive), so one-hot encoding would be a safer bet for this column."
   ]
  },
  {
   "cell_type": "markdown",
   "metadata": {},
   "source": [
    "#### FireplaceQu\n",
    "FireplaceQu: Fireplace quality\n",
    "\n",
    "       Ex\tExcellent - Exceptional Masonry Fireplace\n",
    "       Gd\tGood - Masonry Fireplace in main level\n",
    "       TA\tAverage - Prefabricated Fireplace in main living area or Masonry Fireplace in basement\n",
    "       Fa\tFair - Prefabricated Fireplace in basement\n",
    "       Po\tPoor - Ben Franklin Stove\n",
    "       NA\tNo Fireplace\n",
    "       \n",
    "There is a clear ranking in these categories, so we can use ordinal encoding for this column. We will need to impute the 'nan's so make them into variables which can be encoded."
   ]
  },
  {
   "cell_type": "markdown",
   "metadata": {},
   "source": [
    "### Garage data\n",
    "\n",
    "There are four columns containing garage data which have missing data. The 'missing' data appears to represent no garage, so we will need to impute the 'nan' values with a variable to represent no garage.\n",
    "\n",
    "    \n",
    "#### GarageQual\n",
    "\n",
    "GarageQual: Garage quality\n",
    "\n",
    "       Ex\tExcellent\n",
    "       Gd\tGood\n",
    "       TA\tTypical/Average\n",
    "       Fa\tFair\n",
    "       Po\tPoor\n",
    "       NA\tNo Garage\n",
    "\n",
    "There is a clear ranking in these categories, so we can use ordinal encoding for this column.\n",
    "\n",
    "#### GarageFinish\n",
    "\n",
    "GarageFinish: Interior finish of the garage\n",
    "\n",
    "       Fin\tFinished\n",
    "       RFn\tRough Finished\t\n",
    "       Unf\tUnfinished\n",
    "       NA\tNo Garage\n",
    "\n",
    "There is a clear ranking in these categories, so we can use ordinal encoding for this column.\n",
    "\n",
    "#### GarageCond\n",
    "\n",
    "GarageCond: Garage condition\n",
    "\n",
    "       Ex\tExcellent\n",
    "       Gd\tGood\n",
    "       TA\tTypical/Average\n",
    "       Fa\tFair\n",
    "       Po\tPoor\n",
    "       NA\tNo Garage\n",
    "\n",
    "There is a clear ranking in these categories, so we can use ordinal encoding for this column.\n",
    "\n",
    "#### GarageType\n",
    "\n",
    "GarageType: Garage location\n",
    "\t\t\n",
    "       2Types\tMore than one type of garage\n",
    "       Attchd\tAttached to home\n",
    "       Basment\tBasement Garage\n",
    "       BuiltIn\tBuilt-In (Garage part of house - typically has room above garage)\n",
    "       CarPort\tCar Port\n",
    "       Detchd\tDetached from home\n",
    "       NA\tNo Garage\n",
    "\n",
    "There is no clear ranking in these categories, so we need to one-hot encode this column."
   ]
  },
  {
   "cell_type": "markdown",
   "metadata": {},
   "source": [
    "### Basement\n",
    "\n",
    "There are five columns containing basement data which have missing data. Where this data is missing, it appears to represent no basement, and we will need to impute the 'nan' values with a variable to represent no basement area.\n",
    "\n",
    "#### BsmtQual\n",
    "\n",
    "BsmtQual: Evaluates the height of the basement\n",
    "\n",
    "       Ex\tExcellent (100+ inches)\t\n",
    "       Gd\tGood (90-99 inches)\n",
    "       TA\tTypical (80-89 inches)\n",
    "       Fa\tFair (70-79 inches)\n",
    "       Po\tPoor (<70 inches\n",
    "       NA\tNo Basement\n",
    "\t\t\n",
    "There is a clear ranking in these categories, so we can use ordinal encoding for this column.\n",
    "\n",
    "#### BsmtCond\n",
    "\n",
    "BsmtCond: Evaluates the general condition of the basement\n",
    "\n",
    "       Ex\tExcellent\n",
    "       Gd\tGood\n",
    "       TA\tTypical - slight dampness allowed\n",
    "       Fa\tFair - dampness or some cracking or settling\n",
    "       Po\tPoor - Severe cracking, settling, or wetness\n",
    "       NA\tNo Basement\n",
    "\t\n",
    "There is a clear ranking in these categories, so we can use ordinal encoding for this column.\n",
    "\n",
    "#### BsmtExposure\n",
    "\n",
    "BsmtExposure: Refers to walkout or garden level walls\n",
    "\n",
    "       Gd\tGood Exposure\n",
    "       Av\tAverage Exposure (split levels or foyers typically score average or above)\t\n",
    "       Mn\tMimimum Exposure\n",
    "       No\tNo Exposure\n",
    "       NA\tNo Basement\n",
    "\t\n",
    "There is a clear ranking in these categories, so we can use ordinal encoding for this column.\n",
    "\n",
    "#### BsmtFinType1\n",
    "\n",
    "BsmtFinType1: Rating of basement finished area\n",
    "\n",
    "       GLQ\tGood Living Quarters\n",
    "       ALQ\tAverage Living Quarters\n",
    "       BLQ\tBelow Average Living Quarters\t\n",
    "       Rec\tAverage Rec Room\n",
    "       LwQ\tLow Quality\n",
    "       Unf\tUnfinshed\n",
    "       NA\tNo Basement\n",
    "\n",
    "There is a clear ranking in these categories, so we can use ordinal encoding for this column.\n",
    "\n",
    "#### BsmtFinType2\n",
    "\n",
    "BsmtFinType2: Rating of basement finished area (if multiple types)\n",
    "\n",
    "       GLQ\tGood Living Quarters\n",
    "       ALQ\tAverage Living Quarters\n",
    "       BLQ\tBelow Average Living Quarters\t\n",
    "       Rec\tAverage Rec Room\n",
    "       LwQ\tLow Quality\n",
    "       Unf\tUnfinshed\n",
    "       NA\tNo Basement\n",
    "\n",
    "There is a clear ranking in these categories, so we can use ordinal encoding for this column."
   ]
  },
  {
   "cell_type": "markdown",
   "metadata": {},
   "source": [
    "There are eight remaining columns with missing data - due to the small number of missing data, these are much likely to be cases where the data was not collected, rather than an abscence of something (like a garage or basement).\n",
    "\n",
    "#### MasVnrType\n",
    "\n",
    "MasVnrType: Masonry veneer type\n",
    "\n",
    "       BrkCmn\tBrick Common\n",
    "       BrkFace\tBrick Face\n",
    "       CBlock\tCinder Block\n",
    "       None\tNone\n",
    "       Stone\tStone\n",
    "\n",
    "Here we see that the label for none is 'None', rather than 'NA' as in the case of 'No Garage', 'No Basement', etc. We can see below that homes with no masonry veneer were recorded as 'None'. The missing data was simply not recorded. We can impute the missing data with most frequent value. This column will need to be one-hot encoded.   "
   ]
  },
  {
   "cell_type": "code",
   "execution_count": 67,
   "metadata": {},
   "outputs": [
    {
     "data": {
      "text/plain": [
       "None       864\n",
       "BrkFace    445\n",
       "Stone      128\n",
       "BrkCmn      15\n",
       "Name: MasVnrType, dtype: int64"
      ]
     },
     "execution_count": 67,
     "metadata": {},
     "output_type": "execute_result"
    }
   ],
   "source": [
    "X_object['MasVnrType'].value_counts()"
   ]
  },
  {
   "cell_type": "markdown",
   "metadata": {},
   "source": [
    "#### MSZoning\n",
    "\n",
    "MSZoning: Identifies the general zoning classification of the sale.\n",
    "\t\t\n",
    "       A\tAgriculture\n",
    "       C\tCommercial\n",
    "       FV\tFloating Village Residential\n",
    "       I\tIndustrial\n",
    "       RH\tResidential High Density\n",
    "       RL\tResidential Low Density\n",
    "       RP\tResidential Low Density Park \n",
    "       RM\tResidential Medium Density\n",
    "       \n",
    "Missing vales can be imputed with most frequent value. This column will be one-hot encoded.\n",
    "\n",
    "#### Utilities\n",
    "\n",
    "Utilities: Type of utilities available\n",
    "\t\t\n",
    "       AllPub\tAll public Utilities (E,G,W,& S)\t\n",
    "       NoSewr\tElectricity, Gas, and Water (Septic Tank)\n",
    "       NoSeWa\tElectricity and Gas Only\n",
    "       ELO\tElectricity only\t\n",
    "       \n",
    "Missing vales can be imputed with most frequent value. There is a clear ranking in these categories, so we can use ordinal encoding for this column.\n",
    "\n",
    "#### Electrical\n",
    "\n",
    "Electrical: Electrical system\n",
    "\n",
    "       SBrkr\tStandard Circuit Breakers & Romex\n",
    "       FuseA\tFuse Box over 60 AMP and all Romex wiring (Average)\t\n",
    "       FuseF\t60 AMP Fuse Box and mostly Romex wiring (Fair)\n",
    "       FuseP\t60 AMP Fuse Box and mostly knob & tube wiring (poor)\n",
    "       Mix\tMixed\n",
    "\n",
    "Missing vales can be imputed with most frequent value. There is no clear ranking in these categories, so we will one-hot encode this column.\n",
    "\n",
    "#### KitchenQual\n",
    "\n",
    "KitchenQual: Kitchen quality\n",
    "\n",
    "       Ex\tExcellent\n",
    "       Gd\tGood\n",
    "       TA\tTypical/Average\n",
    "       Fa\tFair\n",
    "       Po\tPoor\n",
    "\n",
    "Missing vales can be imputed with most frequent value. There is a clear ranking in these categories, so we can use ordinal encoding for this column.\n",
    "\n",
    "#### Functional\n",
    "\n",
    "Functional: Home functionality (Assume typical unless deductions are warranted)\n",
    "\n",
    "       Typ\tTypical Functionality\n",
    "       Min1\tMinor Deductions 1\n",
    "       Min2\tMinor Deductions 2\n",
    "       Mod\tModerate Deductions\n",
    "       Maj1\tMajor Deductions 1\n",
    "       Maj2\tMajor Deductions 2\n",
    "       Sev\tSeverely Damaged\n",
    "       Sal\tSalvage only\n",
    "\n",
    "Missing vales can be imputed with most frequent value. There is a clear ranking in these categories, so we can use ordinal encoding for this column.\n",
    "\n",
    "#### SaleType\n",
    "\n",
    "SaleType: Type of sale\n",
    "\t\t\n",
    "       WD \tWarranty Deed - Conventional\n",
    "       CWD\tWarranty Deed - Cash\n",
    "       VWD\tWarranty Deed - VA Loan\n",
    "       New\tHome just constructed and sold\n",
    "       COD\tCourt Officer Deed/Estate\n",
    "       Con\tContract 15% Down payment regular terms\n",
    "       ConLw\tContract Low Down payment and low interest\n",
    "       ConLI\tContract Low Interest\n",
    "       ConLD\tContract Low Down\n",
    "       Oth\tOther\n",
    "\n",
    "Missing vales can be imputed with most frequent value. There is no clear ranking in these categories, so we will one-hot encode this column."
   ]
  },
  {
   "cell_type": "markdown",
   "metadata": {},
   "source": [
    "### Exteriors\n",
    "\n",
    "#### Exterior1st\n",
    "\n",
    "Exterior1st: Exterior covering on house\n",
    "\n",
    "       AsbShng\tAsbestos Shingles\n",
    "       AsphShn\tAsphalt Shingles\n",
    "       BrkComm\tBrick Common\n",
    "       BrkFace\tBrick Face\n",
    "       CBlock\tCinder Block\n",
    "       CemntBd\tCement Board\n",
    "       HdBoard\tHard Board\n",
    "       ImStucc\tImitation Stucco\n",
    "       MetalSd\tMetal Siding\n",
    "       Other\tOther\n",
    "       Plywood\tPlywood\n",
    "       PreCast\tPreCast\t\n",
    "       Stone\tStone\n",
    "       Stucco\tStucco\n",
    "       VinylSd\tVinyl Siding\n",
    "       Wd Sdng\tWood Siding\n",
    "       WdShing\tWood Shingles\n",
    "\t\n",
    "#### Exterior2nd\n",
    "\n",
    "Exterior2nd: Exterior covering on house (if more than one material)\n",
    "\n",
    "       AsbShng\tAsbestos Shingles\n",
    "       AsphShn\tAsphalt Shingles\n",
    "       BrkComm\tBrick Common\n",
    "       BrkFace\tBrick Face\n",
    "       CBlock\tCinder Block\n",
    "       CemntBd\tCement Board\n",
    "       HdBoard\tHard Board\n",
    "       ImStucc\tImitation Stucco\n",
    "       MetalSd\tMetal Siding\n",
    "       Other\tOther\n",
    "       Plywood\tPlywood\n",
    "       PreCast\tPreCast\n",
    "       Stone\tStone\n",
    "       Stucco\tStucco\n",
    "       VinylSd\tVinyl Siding\n",
    "       Wd Sdng\tWood Siding\n",
    "       WdShing\tWood Shingles\n",
    "       \n",
    "Missing vales can be imputed with most frequent value. These columns will be one-hot encoded."
   ]
  },
  {
   "cell_type": "markdown",
   "metadata": {},
   "source": [
    "# Preprocessing categorical data\n",
    "\n",
    "Next we'll look at all the categorical columns that did not have missing data to decide if they can be ordinal encoded, or should be one-hot encoded.\n",
    "\n",
    "When working with large datasets, the cardinality (number of unique values in a column) of columns to be one-hot encoded would be considered. Columns with high cardinality would likely be dropped instead of one-hot encoded as they add significantly to processing time. However, the dataset we have is relatively small so we'll one-hot columns with even high cardinality as to get the most accurate model possible."
   ]
  },
  {
   "cell_type": "code",
   "execution_count": 41,
   "metadata": {},
   "outputs": [
    {
     "data": {
      "text/html": [
       "<div>\n",
       "<style scoped>\n",
       "    .dataframe tbody tr th:only-of-type {\n",
       "        vertical-align: middle;\n",
       "    }\n",
       "\n",
       "    .dataframe tbody tr th {\n",
       "        vertical-align: top;\n",
       "    }\n",
       "\n",
       "    .dataframe thead th {\n",
       "        text-align: right;\n",
       "    }\n",
       "</style>\n",
       "<table border=\"1\" class=\"dataframe\">\n",
       "  <thead>\n",
       "    <tr style=\"text-align: right;\">\n",
       "      <th></th>\n",
       "      <th>Train data</th>\n",
       "      <th>Test data</th>\n",
       "      <th>Total</th>\n",
       "    </tr>\n",
       "  </thead>\n",
       "  <tbody>\n",
       "    <tr>\n",
       "      <th>Street</th>\n",
       "      <td>0</td>\n",
       "      <td>0</td>\n",
       "      <td>0</td>\n",
       "    </tr>\n",
       "    <tr>\n",
       "      <th>LotShape</th>\n",
       "      <td>0</td>\n",
       "      <td>0</td>\n",
       "      <td>0</td>\n",
       "    </tr>\n",
       "    <tr>\n",
       "      <th>PavedDrive</th>\n",
       "      <td>0</td>\n",
       "      <td>0</td>\n",
       "      <td>0</td>\n",
       "    </tr>\n",
       "    <tr>\n",
       "      <th>CentralAir</th>\n",
       "      <td>0</td>\n",
       "      <td>0</td>\n",
       "      <td>0</td>\n",
       "    </tr>\n",
       "    <tr>\n",
       "      <th>HeatingQC</th>\n",
       "      <td>0</td>\n",
       "      <td>0</td>\n",
       "      <td>0</td>\n",
       "    </tr>\n",
       "    <tr>\n",
       "      <th>Heating</th>\n",
       "      <td>0</td>\n",
       "      <td>0</td>\n",
       "      <td>0</td>\n",
       "    </tr>\n",
       "    <tr>\n",
       "      <th>Foundation</th>\n",
       "      <td>0</td>\n",
       "      <td>0</td>\n",
       "      <td>0</td>\n",
       "    </tr>\n",
       "    <tr>\n",
       "      <th>ExterCond</th>\n",
       "      <td>0</td>\n",
       "      <td>0</td>\n",
       "      <td>0</td>\n",
       "    </tr>\n",
       "    <tr>\n",
       "      <th>ExterQual</th>\n",
       "      <td>0</td>\n",
       "      <td>0</td>\n",
       "      <td>0</td>\n",
       "    </tr>\n",
       "    <tr>\n",
       "      <th>RoofMatl</th>\n",
       "      <td>0</td>\n",
       "      <td>0</td>\n",
       "      <td>0</td>\n",
       "    </tr>\n",
       "    <tr>\n",
       "      <th>RoofStyle</th>\n",
       "      <td>0</td>\n",
       "      <td>0</td>\n",
       "      <td>0</td>\n",
       "    </tr>\n",
       "    <tr>\n",
       "      <th>HouseStyle</th>\n",
       "      <td>0</td>\n",
       "      <td>0</td>\n",
       "      <td>0</td>\n",
       "    </tr>\n",
       "    <tr>\n",
       "      <th>BldgType</th>\n",
       "      <td>0</td>\n",
       "      <td>0</td>\n",
       "      <td>0</td>\n",
       "    </tr>\n",
       "    <tr>\n",
       "      <th>Condition2</th>\n",
       "      <td>0</td>\n",
       "      <td>0</td>\n",
       "      <td>0</td>\n",
       "    </tr>\n",
       "    <tr>\n",
       "      <th>Condition1</th>\n",
       "      <td>0</td>\n",
       "      <td>0</td>\n",
       "      <td>0</td>\n",
       "    </tr>\n",
       "    <tr>\n",
       "      <th>Neighborhood</th>\n",
       "      <td>0</td>\n",
       "      <td>0</td>\n",
       "      <td>0</td>\n",
       "    </tr>\n",
       "    <tr>\n",
       "      <th>LandSlope</th>\n",
       "      <td>0</td>\n",
       "      <td>0</td>\n",
       "      <td>0</td>\n",
       "    </tr>\n",
       "    <tr>\n",
       "      <th>LotConfig</th>\n",
       "      <td>0</td>\n",
       "      <td>0</td>\n",
       "      <td>0</td>\n",
       "    </tr>\n",
       "    <tr>\n",
       "      <th>LandContour</th>\n",
       "      <td>0</td>\n",
       "      <td>0</td>\n",
       "      <td>0</td>\n",
       "    </tr>\n",
       "    <tr>\n",
       "      <th>SaleCondition</th>\n",
       "      <td>0</td>\n",
       "      <td>0</td>\n",
       "      <td>0</td>\n",
       "    </tr>\n",
       "  </tbody>\n",
       "</table>\n",
       "</div>"
      ],
      "text/plain": [
       "               Train data  Test data  Total\n",
       "Street                  0          0      0\n",
       "LotShape                0          0      0\n",
       "PavedDrive              0          0      0\n",
       "CentralAir              0          0      0\n",
       "HeatingQC               0          0      0\n",
       "Heating                 0          0      0\n",
       "Foundation              0          0      0\n",
       "ExterCond               0          0      0\n",
       "ExterQual               0          0      0\n",
       "RoofMatl                0          0      0\n",
       "RoofStyle               0          0      0\n",
       "HouseStyle              0          0      0\n",
       "BldgType                0          0      0\n",
       "Condition2              0          0      0\n",
       "Condition1              0          0      0\n",
       "Neighborhood            0          0      0\n",
       "LandSlope               0          0      0\n",
       "LotConfig               0          0      0\n",
       "LandContour             0          0      0\n",
       "SaleCondition           0          0      0"
      ]
     },
     "execution_count": 41,
     "metadata": {},
     "output_type": "execute_result"
    }
   ],
   "source": [
    "# Get all categorical columns that didn't have missing data\n",
    "\n",
    "all_missing_obj_data.loc[all_missing_obj_data['Total']==0].sort_values('Total', ascending=False)"
   ]
  },
  {
   "cell_type": "markdown",
   "metadata": {},
   "source": [
    "### Encoding type\n",
    "\n",
    "Street: Type of road access to property - ONE-HOT ENCODING\n",
    "\n",
    "       Grvl\tGravel\t\n",
    "       Pave\tPaved\n",
    "       \n",
    "LotShape: General shape of property - ORDINAL ENCODING\n",
    "\n",
    "       Reg\tRegular\t\n",
    "       IR1\tSlightly irregular\n",
    "       IR2\tModerately Irregular\n",
    "       IR3\tIrregular\n",
    "\n",
    "\n",
    "PavedDrive: Paved driveway - ORDINAL ENCODING\n",
    "\n",
    "       Y\tPaved \n",
    "       P\tPartial Pavement\n",
    "       N\tDirt/Gravel\n",
    "\n",
    "CentralAir: Central air conditioning - ORDINAL ENCODING\n",
    "\n",
    "       N\tNo\n",
    "       Y\tYes\n",
    "\n",
    "HeatingQC: Heating quality and condition - ORDINAL ENCODING\n",
    "\n",
    "       Ex\tExcellent\n",
    "       Gd\tGood\n",
    "       TA\tAverage/Typical\n",
    "       Fa\tFair\n",
    "       Po\tPoor\n",
    "\n",
    "Heating: Type of heating - ONE-HOT ENCODING\n",
    "\t\t\n",
    "       Floor\tFloor Furnace\n",
    "       GasA\tGas forced warm air furnace\n",
    "       GasW\tGas hot water or steam heat\n",
    "       Grav\tGravity furnace\t\n",
    "       OthW\tHot water or steam heat other than gas\n",
    "       Wall\tWall furnace\n",
    "\n",
    "Foundation: Type of foundation - ONE-HOT ENCODING\n",
    "\t\t\n",
    "       BrkTil\tBrick & Tile\n",
    "       CBlock\tCinder Block\n",
    "       PConc\tPoured Contrete\t\n",
    "       Slab\tSlab\n",
    "       Stone\tStone\n",
    "       Wood\tWood\n",
    "\n",
    "ExterQual: Evaluates the quality of the material on the exterior - ORDINAL ENCODING\n",
    "\t\t\n",
    "       Ex\tExcellent\n",
    "       Gd\tGood\n",
    "       TA\tAverage/Typical\n",
    "       Fa\tFair\n",
    "       Po\tPoor\n",
    "\t\t\n",
    "ExterCond: Evaluates the present condition of the material on the exterior - ORDINAL ENCODING\n",
    "\t\t\n",
    "       Ex\tExcellent\n",
    "       Gd\tGood\n",
    "       TA\tAverage/Typical\n",
    "       Fa\tFair\n",
    "       Po\tPoor\n",
    "\n",
    "RoofStyle: Type of roof - ONE-HOT ENCODING\n",
    "\n",
    "       Flat\tFlat\n",
    "       Gable\tGable\n",
    "       Gambrel\tGabrel (Barn)\n",
    "       Hip\tHip\n",
    "       Mansard\tMansard\n",
    "       Shed\tShed\n",
    "\t\t\n",
    "RoofMatl: Roof material - ONE-HOT ENCODING\n",
    "\n",
    "       ClyTile\tClay or Tile\n",
    "       CompShg\tStandard (Composite) Shingle\n",
    "       Membran\tMembrane\n",
    "       Metal\tMetal\n",
    "       Roll\tRoll\n",
    "       Tar&Grv\tGravel & Tar\n",
    "       WdShake\tWood Shakes\n",
    "       WdShngl\tWood Shingles\n",
    "       \n",
    "BldgType: Type of dwelling - ONE-HOT ENCODING\n",
    "\t\t\n",
    "       1Fam\tSingle-family Detached\t\n",
    "       2FmCon\tTwo-family Conversion; originally built as one-family dwelling\n",
    "       Duplx\tDuplex\n",
    "       TwnhsE\tTownhouse End Unit\n",
    "       TwnhsI\tTownhouse Inside Unit\n",
    "\t\n",
    "HouseStyle: Style of dwelling - ONE-HOT ENCODING\n",
    "\t\n",
    "       1Story\tOne story\n",
    "       1.5Fin\tOne and one-half story: 2nd level finished\n",
    "       1.5Unf\tOne and one-half story: 2nd level unfinished\n",
    "       2Story\tTwo story\n",
    "       2.5Fin\tTwo and one-half story: 2nd level finished\n",
    "       2.5Unf\tTwo and one-half story: 2nd level unfinished\n",
    "       SFoyer\tSplit Foyer\n",
    "       SLvl\tSplit Level\n",
    "\n",
    "Condition1: Proximity to various conditions - ONE-HOT ENCODING\n",
    "\t\n",
    "       Artery\tAdjacent to arterial street\n",
    "       Feedr\tAdjacent to feeder street\t\n",
    "       Norm\tNormal\t\n",
    "       RRNn\tWithin 200' of North-South Railroad\n",
    "       RRAn\tAdjacent to North-South Railroad\n",
    "       PosN\tNear positive off-site feature--park, greenbelt, etc.\n",
    "       PosA\tAdjacent to postive off-site feature\n",
    "       RRNe\tWithin 200' of East-West Railroad\n",
    "       RRAe\tAdjacent to East-West Railroad\n",
    "\t\n",
    "Condition2: Proximity to various conditions (if more than one is present) - ONE-HOT ENCODING\n",
    "\t\t\n",
    "       Artery\tAdjacent to arterial street\n",
    "       Feedr\tAdjacent to feeder street\t\n",
    "       Norm\tNormal\t\n",
    "       RRNn\tWithin 200' of North-South Railroad\n",
    "       RRAn\tAdjacent to North-South Railroad\n",
    "       PosN\tNear positive off-site feature--park, greenbelt, etc.\n",
    "       PosA\tAdjacent to postive off-site feature\n",
    "       RRNe\tWithin 200' of East-West Railroad\n",
    "       RRAe\tAdjacent to East-West Railroad\n",
    "\n",
    "LotConfig: Lot configuration - ONE-HOT ENCODING\n",
    "\n",
    "       Inside\tInside lot\n",
    "       Corner\tCorner lot\n",
    "       CulDSac\tCul-de-sac\n",
    "       FR2\tFrontage on 2 sides of property\n",
    "       FR3\tFrontage on 3 sides of property\n",
    "\t\n",
    "LandSlope: Slope of property - ORDINAL ENCODING\n",
    "\t\t\n",
    "       Gtl\tGentle slope\n",
    "       Mod\tModerate Slope\t\n",
    "       Sev\tSevere Slope\n",
    "\t\n",
    "Neighborhood: Physical locations within Ames city limits - ONE-HOT ENCODING (note: in large datasets, because of the large cardinality of this column, feature engineering could be used to replace the need for one-hot encoding, for example by replacing with average cost of homes in the neighbourhood (although this risks target leakage if the SalesPrice from the train data itself is used), or distance to city centre)\n",
    "\n",
    "       Blmngtn\tBloomington Heights\n",
    "       Blueste\tBluestem\n",
    "       BrDale\tBriardale\n",
    "       BrkSide\tBrookside\n",
    "       ClearCr\tClear Creek\n",
    "       CollgCr\tCollege Creek\n",
    "       Crawfor\tCrawford\n",
    "       Edwards\tEdwards\n",
    "       Gilbert\tGilbert\n",
    "       IDOTRR\tIowa DOT and Rail Road\n",
    "       MeadowV\tMeadow Village\n",
    "       Mitchel\tMitchell\n",
    "       Names\tNorth Ames\n",
    "       NoRidge\tNorthridge\n",
    "       NPkVill\tNorthpark Villa\n",
    "       NridgHt\tNorthridge Heights\n",
    "       NWAmes\tNorthwest Ames\n",
    "       OldTown\tOld Town\n",
    "       SWISU\tSouth & West of Iowa State University\n",
    "       Sawyer\tSawyer\n",
    "       SawyerW\tSawyer West\n",
    "       Somerst\tSomerset\n",
    "       StoneBr\tStone Brook\n",
    "       Timber\tTimberland\n",
    "       Veenker\tVeenker\n",
    "\n",
    "LandContour: Flatness of the property - ORDINAL ENCODING\n",
    "\n",
    "       Lvl\tNear Flat/Level\t\n",
    "       Bnk\tBanked - Quick and significant rise from street grade to building\n",
    "       HLS\tHillside - Significant slope from side to side\n",
    "       Low\tDepression\n",
    "       \n",
    "SaleCondition: Condition of sale - ONE HOT ENCODING\n",
    "\n",
    "       Normal\tNormal Sale\n",
    "       Abnorml\tAbnormal Sale -  trade, foreclosure, short sale\n",
    "       AdjLand\tAdjoining Land Purchase\n",
    "       Alloca\tAllocation - two linked properties with separate deeds, typically condo with a garage unit\t\n",
    "       Family\tSale between family members\n",
    "       Partial\tHome was not completed when last assessed (associated with New Homes)"
   ]
  },
  {
   "cell_type": "markdown",
   "metadata": {},
   "source": [
    "After investigating all the categorical columns, we can split them into the following categories:\n",
    "\n",
    "**Encoding treatment:**\n",
    "- *Columns to be ordinal encoded (ordinal):* LotShape, PavedDrive, CentralAir, HeatingQC, ExterQual, ExterCond, LandSlope, LandContour, PoolQC, FireplaceQu, GarageQual, GarageFinish, GarageCond, BsmtQual, BsmtCond, BsmtExposure, BsmtFinType1, BsmtFinType2,  Utilities,  KitchenQual,  Functional\n",
    "- *Columns to be one-hot encoded (nominal):* Street, Heating, Foundation, RoofStyle, RoofMatl, BldgType, HouseStyle, Condition1, Condition2, LotConfig, Neighborhood, SaleType, MiscFeature, Alley, Fence, GarageType, MasVnrType,  MSZoning,  SaleType, Exterior1st, Exterior2nd, Electrical\n",
    "\n",
    "**Imputation treatment:**\n",
    "- *Columns to be imputed with missing values as 'NA' or 'None':* PoolQC, FireplaceQu, GarageQual, GarageFinish, GarageCond, BsmtQual, BsmtCond, BsmtExposure, BsmtFinType1, BsmtFinType2, SaleCondition, MiscFeature, Alley, Fence, GarageType\n",
    "- *Columns to be imputed with a most frequent value:* MasVnrType,  Utilities, KitchenQual,  Functional, MSZoning, Sale Type, Exterior1st, Exterior2nd, Electrical"
   ]
  },
  {
   "cell_type": "code",
   "execution_count": 42,
   "metadata": {},
   "outputs": [],
   "source": [
    "# Define columns to be imputed with a constant ('NA')\n",
    "ordinal_NA_cols = ['LotShape', 'PavedDrive', 'CentralAir', 'HeatingQC', 'ExterQual', 'ExterCond', 'LandSlope', 'LandContour', 'PoolQC', 'FireplaceQu', 'GarageQual', 'GarageFinish', 'GarageCond', 'BsmtQual', 'BsmtCond', 'BsmtExposure', 'BsmtFinType1', 'BsmtFinType2']\n",
    "nominal_NA_cols = ['Street', 'Heating', 'Foundation', 'RoofStyle', 'RoofMatl', 'BldgType', 'HouseStyle', 'Condition1', 'Condition2', 'LotConfig', 'Neighborhood', 'SaleCondition', 'MiscFeature', 'Alley', 'Fence', 'GarageType']"
   ]
  },
  {
   "cell_type": "code",
   "execution_count": 43,
   "metadata": {},
   "outputs": [],
   "source": [
    "# Define columns to be imputed with the most frequent value\n",
    "ordinal_MF_cols = ['Utilities', 'KitchenQual',  'Functional']\n",
    "nominal_MF_cols = ['MasVnrType', 'MSZoning', 'SaleType', 'Exterior1st', 'Exterior2nd', 'Electrical']"
   ]
  },
  {
   "cell_type": "markdown",
   "metadata": {},
   "source": [
    "# Basic feature engineering\n",
    "\n",
    "As this is a tree model, two types of features which might boost performance are ratio combinations and counts.\n",
    "\n",
    "All the columns we will be using to create the features are numerical. Previously it was decided to impute all missing data in numerical columns using a median strategy. We will impute numerical columns before creating features so features are not affected by missing data."
   ]
  },
  {
   "cell_type": "code",
   "execution_count": 44,
   "metadata": {},
   "outputs": [],
   "source": [
    "numeric_imputer = SimpleImputer(strategy='median')\n",
    "\n",
    "# Impute missing data in numerical columns\n",
    "fnum_X_train = pd.DataFrame(numeric_imputer.fit_transform(X_train[numeric_cols]))\n",
    "fnum_X_test = pd.DataFrame(numeric_imputer.transform(test_data[numeric_cols]))\n",
    "\n",
    "# Put column names back as they are removed during imputation\n",
    "fnum_X_train.columns = X_train[numeric_cols].columns\n",
    "fnum_X_test.columns = test_data[numeric_cols].columns"
   ]
  },
  {
   "cell_type": "code",
   "execution_count": 45,
   "metadata": {},
   "outputs": [],
   "source": [
    "# Create dataframes to hold new features\n",
    "X_train_feat = pd.DataFrame()  \n",
    "X_test_feat = pd.DataFrame() "
   ]
  },
  {
   "cell_type": "markdown",
   "metadata": {},
   "source": [
    "#### Outdoor area features  \n",
    "\n",
    "We are able to utilise the below columns to make new features about outdoor living areas:\n",
    "- WoodDeckSF: Wood deck area in square feet  \n",
    "- OpenPorchSF: Open porch area in square feet  \n",
    "- EnclosedPorch: Enclosed porch area in square feet  \n",
    "- 3SsnPorch: Three season porch area in square feet  \n",
    "- ScreenPorch: Screen porch area in square feet  "
   ]
  },
  {
   "cell_type": "code",
   "execution_count": 46,
   "metadata": {},
   "outputs": [],
   "source": [
    "fnum_X_train['ThreeSsnPorch'] = fnum_X_train['3SsnPorch']\n",
    "fnum_X_test['ThreeSsnPorch'] = fnum_X_test['3SsnPorch']"
   ]
  },
  {
   "cell_type": "code",
   "execution_count": 47,
   "metadata": {},
   "outputs": [],
   "source": [
    "# Calculate total area of outdoor living space\n",
    "\n",
    "X_train_feat['OutdoorLivingSF'] = fnum_X_train.WoodDeckSF + fnum_X_train.OpenPorchSF + fnum_X_train.EnclosedPorch  + fnum_X_train.ScreenPorch + fnum_X_train.ThreeSsnPorch\n",
    "X_test_feat['OutdoorLivingSF'] = fnum_X_test.WoodDeckSF + fnum_X_test.OpenPorchSF + fnum_X_test.EnclosedPorch  + fnum_X_test.ScreenPorch + fnum_X_test.ThreeSsnPorch"
   ]
  },
  {
   "cell_type": "code",
   "execution_count": 48,
   "metadata": {},
   "outputs": [],
   "source": [
    "# Calculate ratio of outdoor living space to indoor living space\n",
    "\n",
    "X_train_feat['IndoorOutdoorLivRto'] =  X_train_feat.OutdoorLivingSF /fnum_X_train.GrLivArea\n",
    "X_test_feat['IndoorOutdoorLivRto'] = X_test_feat.OutdoorLivingSF /fnum_X_test.GrLivArea"
   ]
  },
  {
   "cell_type": "code",
   "execution_count": 49,
   "metadata": {},
   "outputs": [],
   "source": [
    "# Count the number of different types of outdoor living areas\n",
    "\n",
    "outdoor_areas = [ 'WoodDeckSF', 'OpenPorchSF', 'EnclosedPorch', 'ScreenPorch', 'ThreeSsnPorch']\n",
    "\n",
    "X_train_feat['TypesOutdoorLvgAreas'] = fnum_X_train[outdoor_areas].gt(0).sum(axis=1)\n",
    "X_test_feat['TypesOutdoorLvgAreas'] = fnum_X_test[outdoor_areas].gt(0).sum(axis=1)"
   ]
  },
  {
   "cell_type": "markdown",
   "metadata": {},
   "source": [
    "#### Bathroom features\n",
    "\n",
    "Currently bathrooms are split across four different columns, whereas prospective buyers are usually interested in total bathrooms:\n",
    "- BsmtFullBath: Basement full bathrooms\n",
    "- BsmtHalfBath: Basement half bathrooms\n",
    "- FullBath: Full bathrooms above grade\n",
    "- HalfBath: Half baths above grade"
   ]
  },
  {
   "cell_type": "code",
   "execution_count": 50,
   "metadata": {
    "scrolled": true
   },
   "outputs": [],
   "source": [
    "# Create bathroom totals\n",
    "X_train_feat['TotalFullBath'] =  fnum_X_train.FullBath + fnum_X_train.BsmtFullBath\n",
    "X_test_feat['TotalFullBath'] = fnum_X_test.FullBath + fnum_X_test.BsmtFullBath\n",
    "\n",
    "X_train_feat['TotalHalfBath'] =  fnum_X_train.FullBath + fnum_X_train.BsmtHalfBath\n",
    "X_test_feat['TotalHalfBath'] = fnum_X_test.FullBath + fnum_X_test.BsmtHalfBath\n",
    "\n",
    "X_train_feat['TotalBath'] =  X_train_feat.TotalFullBath + X_train_feat.TotalHalfBath\n",
    "X_test_feat['TotalBath'] = X_test_feat.TotalFullBath + X_test_feat.TotalHalfBath"
   ]
  },
  {
   "cell_type": "markdown",
   "metadata": {},
   "source": [
    "#### House and lot size and quality Features\n",
    "\n",
    "We will be using the following columns to make features:\n",
    "- TotRmsAbvGrd: Total rooms above grade (does not include bathrooms)\n",
    "- 1stFlrSF: First Floor square feet\n",
    "- 2ndFlrSF: Second floor square feet\n",
    "- LowQualFinSF: Low quality finished square feet (all floors)\n",
    "- GrLivArea: Above grade (ground) living area square feet\n",
    "- LotArea: Lot size in square feet"
   ]
  },
  {
   "cell_type": "code",
   "execution_count": 51,
   "metadata": {},
   "outputs": [],
   "source": [
    "fnum_X_train['FirstFlrSF'] = fnum_X_train['1stFlrSF']\n",
    "fnum_X_test['FirstFlrSF'] = fnum_X_test['1stFlrSF']\n",
    "\n",
    "fnum_X_train['SndFlrSF'] = fnum_X_train['2ndFlrSF']\n",
    "fnum_X_test['SndFlrSF'] = fnum_X_test['2ndFlrSF']"
   ]
  },
  {
   "cell_type": "code",
   "execution_count": 52,
   "metadata": {},
   "outputs": [],
   "source": [
    "# Total space above ground\n",
    "X_train_feat['TtlSFAbvGrd'] =  fnum_X_train.FirstFlrSF + fnum_X_train.SndFlrSF\n",
    "X_test_feat['TtlSFAbvGrd'] = fnum_X_test.FirstFlrSF + fnum_X_test.SndFlrSF\n",
    "\n",
    "# Total SF in the house\n",
    "X_train_feat['TtlSF'] =  fnum_X_train.FirstFlrSF + fnum_X_train.SndFlrSF + fnum_X_train.TotalBsmtSF\n",
    "X_test_feat['TtlSF'] = fnum_X_test.FirstFlrSF + fnum_X_test.SndFlrSF + fnum_X_test.TotalBsmtSF\n",
    "\n",
    "# Size of rooms (above ground)\n",
    "X_train_feat['RoomSizeAbvGrd'] = X_train_feat.TtlSFAbvGrd / fnum_X_train.TotRmsAbvGrd \n",
    "X_test_feat['RoomSizeAbvGrd'] = X_test_feat.TtlSFAbvGrd / fnum_X_test.TotRmsAbvGrd \n",
    "\n",
    "# Ratio of property with low quality finish\n",
    "X_train_feat['LowQualRto'] = fnum_X_train.LowQualFinSF / X_train_feat.TtlSF\n",
    "X_test_feat['LowQualRto'] = fnum_X_test.LowQualFinSF / X_test_feat.TtlSF "
   ]
  },
  {
   "cell_type": "code",
   "execution_count": 53,
   "metadata": {},
   "outputs": [],
   "source": [
    "# Lot size minus house 1st floor SF (house footprint) to determine land/garden size\n",
    "X_train_feat['LandSize'] =  fnum_X_train.LotArea - fnum_X_train.FirstFlrSF\n",
    "X_test_feat['LandSize'] = fnum_X_test.LotArea - fnum_X_test.FirstFlrSF\n",
    "\n",
    "# Ratio of living area to lot size\n",
    "X_train_feat['LivLotRto'] =  fnum_X_train.GrLivArea / fnum_X_train.LotArea\n",
    "X_test_feat['LivLotRto'] = fnum_X_test.GrLivArea / fnum_X_test.LotArea"
   ]
  },
  {
   "cell_type": "code",
   "execution_count": 54,
   "metadata": {},
   "outputs": [],
   "source": [
    "# Create an X_train with added features for model tuning\n",
    "\n",
    "Xf_train = pd.concat([X_train, X_train_feat], axis=1)"
   ]
  },
  {
   "cell_type": "code",
   "execution_count": 55,
   "metadata": {},
   "outputs": [],
   "source": [
    "# Define feature columns\n",
    "feat_cols = ['OutdoorLivingSF', 'IndoorOutdoorLivRto', 'TypesOutdoorLvgAreas', 'TotalFullBath', 'TotalHalfBath', 'TotalBath', 'TtlSFAbvGrd', 'TtlSF', 'RoomSizeAbvGrd', 'LowQualRto', 'LandSize', 'LivLotRto']"
   ]
  },
  {
   "cell_type": "markdown",
   "metadata": {},
   "source": [
    "# Testing for category discrepancies between the train and test data\n",
    "\n",
    "There may be datasets where categorical columns in the test data contain categories not seen in the train data. If such a situation occurs, how it is best dealt with may vary based on the number of categories not seen in the train data (e.g. large number of categories not seen in train may mean we consider dropping the column entirely). "
   ]
  },
  {
   "cell_type": "code",
   "execution_count": 68,
   "metadata": {},
   "outputs": [
    {
     "name": "stdout",
     "output_type": "stream",
     "text": [
      "MSZoning  :  [nan]\n",
      "Alley  :  [nan]\n",
      "Utilities  :  [nan]\n",
      "Exterior1st  :  [nan]\n",
      "Exterior2nd  :  [nan]\n",
      "MasVnrType  :  [nan]\n",
      "BsmtQual  :  [nan]\n",
      "BsmtCond  :  [nan]\n",
      "BsmtExposure  :  [nan]\n",
      "BsmtFinType1  :  [nan]\n",
      "BsmtFinType2  :  [nan]\n",
      "KitchenQual  :  [nan]\n",
      "Functional  :  [nan]\n",
      "FireplaceQu  :  [nan]\n",
      "GarageType  :  [nan]\n",
      "GarageFinish  :  [nan]\n",
      "GarageQual  :  [nan]\n",
      "GarageCond  :  [nan]\n",
      "PoolQC  :  [nan]\n",
      "Fence  :  [nan]\n",
      "MiscFeature  :  [nan]\n",
      "SaleType  :  [nan]\n"
     ]
    }
   ],
   "source": [
    "# Test every categotical column\n",
    "for col in object_cols:\n",
    "    # Get unique entries (categories) for both train and test data\n",
    "    train_cats = train_data[col].unique()\n",
    "    test_cats = test_data[col].unique()\n",
    "    \n",
    "    # Create empty list\n",
    "    cats_not_seen = []\n",
    "    \n",
    "    # For every unique category in the test dataset, check that it also appears in the train data\n",
    "    for cat in test_cats:\n",
    "        if cat not in train_cats:\n",
    "            # If not seen in the train data, add to list\n",
    "            cats_not_seen.append(cat)\n",
    "            \n",
    "    if len(cats_not_seen) > 0:\n",
    "        # Print column and corresponding list of categories in test not seen in train\n",
    "        print(col, \" : \", cats_not_seen)"
   ]
  },
  {
   "cell_type": "markdown",
   "metadata": {},
   "source": [
    "We can see here only missing data is represented - this will be imputed so there are no columns with categories in test that were not seen in train."
   ]
  },
  {
   "cell_type": "markdown",
   "metadata": {},
   "source": [
    "# Creating a pipeline\n",
    "\n",
    "When creating a pipeline, we'll first define the preprocessing required for each 'set' of data we have defined. We will then bundle preprocessing together with the model.\n",
    "\n",
    "Although there are no categorical columns in the test data containing categories that do not exist in the train data, when we wish to test our train data, it will be split into train and valid sets, and in these situations it is likely there may be categories in the valid data not seen in the train data. Therefore we need to put handle_unknown clauses into our encoders to stop errors from being thrown. Note that v24 of scikit-learn is needed to use the parameters handle_unknown and unknown_value for OrdinalEncoder."
   ]
  },
  {
   "cell_type": "code",
   "execution_count": 55,
   "metadata": {},
   "outputs": [],
   "source": [
    "# Preprocessing for numerical data\n",
    "numerical_transformer = SimpleImputer(strategy='median')\n",
    "\n",
    "# Preprocessing for ordinal categorical data needing constant imputation\n",
    "ordinal_NA_transformer = Pipeline(steps=[\n",
    "    ('imputer', SimpleImputer(strategy='constant', fill_value='NA')),\n",
    "    ('ordinalencoder', OrdinalEncoder(handle_unknown='use_encoded_value', unknown_value=-1))\n",
    "])\n",
    "\n",
    "# Preprocessing for nominal categorical data needing constant imputation\n",
    "nominal_NA_transformer = Pipeline(steps=[\n",
    "    ('imputer', SimpleImputer(strategy='constant', fill_value='NA')),\n",
    "    ('onehot', OneHotEncoder(handle_unknown='ignore', sparse=False))\n",
    "])\n",
    "\n",
    "# Preprocessing for ordinal categorical data needing most frequent imputation\n",
    "ordinal_MF_transformer = Pipeline(steps=[\n",
    "    ('imputer', SimpleImputer(strategy='most_frequent')),\n",
    "    ('ordinalencoder', OrdinalEncoder(handle_unknown='use_encoded_value', unknown_value=-1))\n",
    "])\n",
    "\n",
    "# Preprocessing for nominal categorical data needing most frequent imputation\n",
    "nominal_MF_transformer = Pipeline(steps=[\n",
    "    ('imputer', SimpleImputer(strategy='most_frequent')),\n",
    "    ('onehot', OneHotEncoder(handle_unknown='ignore', sparse=False))\n",
    "])"
   ]
  },
  {
   "cell_type": "code",
   "execution_count": 56,
   "metadata": {},
   "outputs": [],
   "source": [
    "# Bundle the various types of preprocessing\n",
    "preprocessor = ColumnTransformer(\n",
    "    transformers=[\n",
    "        ('num', numerical_transformer, numeric_cols),\n",
    "        ('nomNA', nominal_NA_transformer, nominal_NA_cols),\n",
    "        ('ordNA', ordinal_NA_transformer, ordinal_NA_cols),\n",
    "        ('nomMF', nominal_MF_transformer, nominal_MF_cols),\n",
    "        ('ordMF', ordinal_MF_transformer, ordinal_MF_cols),\n",
    "        ('feat', numerical_transformer, feat_cols)\n",
    "        \n",
    "    ])\n",
    "\n",
    "# Define model\n",
    "model = XGBRegressor(random_state=0, n_estimators=1000, learning_rate=0.05)"
   ]
  },
  {
   "cell_type": "code",
   "execution_count": 57,
   "metadata": {},
   "outputs": [],
   "source": [
    "# Bundle preprocessing and model code in a pipeline\n",
    "my_pipeline = Pipeline(steps=[('preprocessor', preprocessor),\n",
    "                              ('model', model)\n",
    "                             ])"
   ]
  },
  {
   "cell_type": "code",
   "execution_count": 58,
   "metadata": {},
   "outputs": [
    {
     "name": "stdout",
     "output_type": "stream",
     "text": [
      "Average RMSE score: 27218.751378608653\n"
     ]
    }
   ],
   "source": [
    "# Calculate RMSE\n",
    "scores = -1 * cross_val_score(my_pipeline, Xf_train, y,\n",
    "                              cv=5,\n",
    "                              scoring='neg_root_mean_squared_error')\n",
    "\n",
    "print(\"Average RMSE score:\", scores.mean())"
   ]
  },
  {
   "cell_type": "markdown",
   "metadata": {},
   "source": [
    "# Model parameter tuning\n",
    "\n",
    "To tune our model, we will be using two techniques: XGBoost's early stopping rounds function, and hyperparameter tuning using RandomizedSearchCV. \n",
    "\n",
    "As the data will not be processed in the pipeline, we'll need to process it before hand. \n",
    "\n",
    "For early stopping rounds we will need both a training and validation dataset. For RandomizedSearchCV, we can use the full training dataset as it uses cross validation. Therefore, before tuning, we will preprocess both the full training data, and the train data split into 'train' and 'valid' subsets."
   ]
  },
  {
   "cell_type": "code",
   "execution_count": 59,
   "metadata": {},
   "outputs": [],
   "source": [
    "# Define imputers and encoders. We will use pandas get_dummies for one-hot encoding\n",
    "t_numeric_imputer = SimpleImputer(strategy='median')\n",
    "t_NA_imputer = SimpleImputer(strategy='constant', fill_value='NA')\n",
    "t_MF_imputer = SimpleImputer(strategy='most_frequent')\n",
    "t_ordinal_encoder = OrdinalEncoder(handle_unknown='use_encoded_value', unknown_value=-1)"
   ]
  },
  {
   "cell_type": "code",
   "execution_count": 60,
   "metadata": {},
   "outputs": [],
   "source": [
    "# Split the train data into training and validation subsets\n",
    "\n",
    "t_X_train, t_X_valid, t_y_train, t_y_valid = train_test_split(Xf_train, y, train_size=0.8, test_size=0.2,\n",
    "                                                      random_state=0)"
   ]
  },
  {
   "cell_type": "code",
   "execution_count": 61,
   "metadata": {},
   "outputs": [],
   "source": [
    "# Impute missing data in numerical columns\n",
    "num_t_X_train = pd.DataFrame(t_numeric_imputer.fit_transform(t_X_train[numeric_cols]))\n",
    "num_t_X_valid = pd.DataFrame(t_numeric_imputer.transform(t_X_valid[numeric_cols]))\n",
    "\n",
    "# Put column names back as they are removed during imputation\n",
    "num_t_X_train.columns = t_X_train[numeric_cols].columns\n",
    "num_t_X_valid.columns = t_X_valid[numeric_cols].columns\n",
    "\n",
    "# Same processing for complete training data\n",
    "num_t_X_fulltrain = pd.DataFrame(t_numeric_imputer.fit_transform(X_train[numeric_cols]))\n",
    "num_t_X_fulltrain.columns = X_train[numeric_cols].columns"
   ]
  },
  {
   "cell_type": "code",
   "execution_count": 62,
   "metadata": {},
   "outputs": [],
   "source": [
    "# Process feature data\n",
    "feat_t_X_train = pd.DataFrame(t_numeric_imputer.fit_transform(t_X_train[feat_cols]))\n",
    "feat_t_X_valid = pd.DataFrame(t_numeric_imputer.transform(t_X_valid[feat_cols]))\n",
    "\n",
    "# Put column names back\n",
    "feat_t_X_train.columns = t_X_train[feat_cols].columns\n",
    "feat_t_X_valid.columns = t_X_valid[feat_cols].columns"
   ]
  },
  {
   "cell_type": "code",
   "execution_count": 63,
   "metadata": {},
   "outputs": [],
   "source": [
    "# Define categorical columns to be imputed using constant and most frequent strategies\n",
    "cols_impute_NA = nominal_NA_cols + ordinal_NA_cols\n",
    "cols_impute_MF = nominal_MF_cols + ordinal_MF_cols"
   ]
  },
  {
   "cell_type": "code",
   "execution_count": 64,
   "metadata": {},
   "outputs": [],
   "source": [
    "# Impute categorical columns\n",
    "\n",
    "# Impute missing data in categorical columns with 'NA' constant\n",
    "NA_t_X_train = pd.DataFrame(t_NA_imputer.fit_transform(t_X_train[cols_impute_NA]))\n",
    "NA_t_X_valid = pd.DataFrame(t_NA_imputer.transform(t_X_valid[cols_impute_NA]))\n",
    "\n",
    "# Put column names back as they are removed during imputation\n",
    "NA_t_X_train.columns = t_X_train[cols_impute_NA].columns\n",
    "NA_t_X_valid.columns = t_X_valid[cols_impute_NA].columns\n",
    "\n",
    "# Impute missing data in categorical columns with most frequent values\n",
    "MF_t_X_train = pd.DataFrame(t_MF_imputer.fit_transform(t_X_train[cols_impute_MF]))\n",
    "MF_t_X_valid = pd.DataFrame(t_MF_imputer.transform(t_X_valid[cols_impute_MF]))\n",
    "\n",
    "# Put column names back as they are removed during imputation\n",
    "MF_t_X_train.columns = t_X_train[cols_impute_MF].columns\n",
    "MF_t_X_valid.columns = t_X_valid[cols_impute_MF].columns\n",
    "\n",
    "# Same processing for complete training data\n",
    "NA_t_X_fulltrain = pd.DataFrame(t_NA_imputer.fit_transform(X_train[cols_impute_NA]))\n",
    "NA_t_X_fulltrain.columns = X_train[cols_impute_NA].columns\n",
    "\n",
    "MF_t_X_fulltrain = pd.DataFrame(t_MF_imputer.fit_transform(X_train[cols_impute_MF]))\n",
    "MF_t_X_fulltrain.columns = X_train[cols_impute_MF].columns"
   ]
  },
  {
   "cell_type": "code",
   "execution_count": 65,
   "metadata": {},
   "outputs": [],
   "source": [
    "# Put categorical column datasets back together for encoding\n",
    "cat_t_X_train = pd.concat([NA_t_X_train, MF_t_X_train], axis=1)\n",
    "cat_t_X_valid = pd.concat([NA_t_X_valid, MF_t_X_valid], axis=1)\n",
    "\n",
    "# Same treatment for complete training data\n",
    "cat_t_X_fulltrain = pd.concat([NA_t_X_fulltrain, MF_t_X_fulltrain], axis=1)"
   ]
  },
  {
   "cell_type": "code",
   "execution_count": 66,
   "metadata": {},
   "outputs": [],
   "source": [
    "# Define categorical columns to be ordinal encoded and one-hot encoded\n",
    "cols_onehot = nominal_NA_cols + nominal_MF_cols\n",
    "cols_ordinal = ordinal_NA_cols + ordinal_MF_cols"
   ]
  },
  {
   "cell_type": "code",
   "execution_count": 67,
   "metadata": {},
   "outputs": [],
   "source": [
    "# Using pandas get_dummies to one-hot encode categorical columns\n",
    "OH_t_X_train = pd.get_dummies(cat_t_X_train[cols_onehot])\n",
    "OH_t_X_valid = pd.get_dummies(cat_t_X_valid[cols_onehot])\n",
    "\n",
    "# Same processing for complete training data\n",
    "OH_t_X_fulltrain = pd.get_dummies(cat_t_X_fulltrain[cols_onehot])"
   ]
  },
  {
   "cell_type": "code",
   "execution_count": 68,
   "metadata": {},
   "outputs": [],
   "source": [
    "# Impute missing data in categorical columns with most frequent values\n",
    "ord_t_X_train = pd.DataFrame(t_ordinal_encoder.fit_transform(cat_t_X_train[cols_ordinal]))\n",
    "ord_t_X_valid = pd.DataFrame(t_ordinal_encoder.transform(cat_t_X_valid[cols_ordinal]))\n",
    "\n",
    "# Put column names back as they are removed during encoding\n",
    "ord_t_X_train.columns = cat_t_X_train[cols_ordinal].columns\n",
    "ord_t_X_valid.columns = cat_t_X_valid[cols_ordinal].columns\n",
    "\n",
    "# Same processing for complete training data\n",
    "ord_t_X_fulltrain = pd.DataFrame(t_ordinal_encoder.fit_transform(cat_t_X_fulltrain[cols_ordinal]))\n",
    "ord_t_X_fulltrain.columns = cat_t_X_fulltrain[cols_ordinal].columns"
   ]
  },
  {
   "cell_type": "code",
   "execution_count": 69,
   "metadata": {},
   "outputs": [],
   "source": [
    "# Put processed numeric, one-hot encoded, ordinal encoded and feature columns back together\n",
    "pt_X_train = pd.concat([num_t_X_train, OH_t_X_train, ord_t_X_train, feat_t_X_train], axis=1)\n",
    "pt_X_valid = pd.concat([num_t_X_valid, OH_t_X_valid, ord_t_X_valid, feat_t_X_valid], axis=1)\n",
    "\n",
    "pt_X_fulltrain = pd.concat([num_t_X_fulltrain, OH_t_X_fulltrain, ord_t_X_fulltrain, X_train_feat], axis=1)"
   ]
  },
  {
   "cell_type": "markdown",
   "metadata": {},
   "source": [
    "The first time the model was fit, there were two errors: \n",
    "- expected Electrical_Mix, Heating_Floor, SaleType_ConLw, RoofMatl_Membran, Condition2_PosA, Neighborhood_Blueste, Exterior2nd_CBlock, MiscFeature_Gar2, Exterior1st_ImStucc, Exterior1st_Stone, Condition1_RRNe, RoofMatl_Roll, Exterior1st_CBlock, Heating_OthW, RoofMatl_WdShake, Exterior1st_AsphShn, GarageType_2Types, RoofStyle_Shed, MiscFeature_Othr, RoofMatl_Metal, Exterior2nd_Other, Condition2_RRAe, Heating_Grav, Foundation_Stone in input data\n",
    "- training data did not have the following fields: MiscFeature_TenC, RoofMatl_ClyTile, Condition2_RRNn, Condition2_RRAn\n",
    "\n",
    "This is where there nominal categorical columns, which we one-hot encode, have different sets of unique categories in the training and validation data, meaning different columns will be created during one-hot encoding. In the pipeline, these discrepancies are handled using handle_unknown parameters, however in this case we will simply drop these columns."
   ]
  },
  {
   "cell_type": "code",
   "execution_count": 70,
   "metadata": {},
   "outputs": [],
   "source": [
    "# Create final X_train and X_valid for tuning use\n",
    "ft_X_train = pt_X_train.drop(['Electrical_Mix', 'Heating_Floor', 'SaleType_ConLw', 'RoofMatl_Membran', 'Condition2_PosA', 'Neighborhood_Blueste', 'Exterior2nd_CBlock', 'MiscFeature_Gar2', 'Exterior1st_ImStucc', 'Exterior1st_Stone', 'Condition1_RRNe', 'RoofMatl_Roll', 'Exterior1st_CBlock', 'Heating_OthW', 'RoofMatl_WdShake', 'Exterior1st_AsphShn', 'GarageType_2Types', 'RoofStyle_Shed', 'MiscFeature_Othr', 'RoofMatl_Metal', 'Exterior2nd_Other', 'Condition2_RRAe', 'Heating_Grav', 'Foundation_Stone'], axis=1)\n",
    "ft_X_valid = pt_X_valid.drop(['MiscFeature_TenC', 'RoofMatl_ClyTile', 'Condition2_RRNn', 'Condition2_RRAn'], axis=1)"
   ]
  },
  {
   "cell_type": "markdown",
   "metadata": {},
   "source": [
    "### Tuning using early stopping rounds\n",
    "\n",
    "Using the XGBoost's early stopping rounds feature, we can investigate which learning rates produce the lowest RMSE, as well as the optimal number of estimators for each learning rate."
   ]
  },
  {
   "cell_type": "code",
   "execution_count": 71,
   "metadata": {},
   "outputs": [],
   "source": [
    "# Define model\n",
    "tuning_model_1 = XGBRegressor(random_state=0, n_estimators=1500, learning_rate=0.03)"
   ]
  },
  {
   "cell_type": "code",
   "execution_count": null,
   "metadata": {
    "scrolled": true
   },
   "outputs": [],
   "source": [
    "# Fit model with early stopping rounds to get (a) best number of estimators and (b) the RMSE\n",
    "# (Cleared output as early stopping rounds creates hundreds of lines)\n",
    "\n",
    "tuning_model_1.fit(ft_X_train, t_y_train, \n",
    "             early_stopping_rounds=50, \n",
    "             eval_set=[(ft_X_valid, t_y_valid)],\n",
    "             verbose=True)"
   ]
  },
  {
   "cell_type": "markdown",
   "metadata": {},
   "source": [
    "The following learning rates generate the following RMSE scores:\n",
    "- 0.1: RMSE ~30400\n",
    "- 0.07: RMSE ~31300\n",
    "- 0.05: RMSE ~28600\n",
    "- 0.03: RMSE ~29500\n",
    "\n",
    "As we can see, the lower learning rates had the lowest RMSE scores. A small learning rate and large number of estimators will generally create a more accurate XGBoost model."
   ]
  },
  {
   "cell_type": "markdown",
   "metadata": {},
   "source": [
    "### Hyperparameter tuning\n",
    "\n",
    "In addition to tuning parameters using early stopping rounds, which was taught in Kaggle's Intermediate Machine Learning course, I decided to try hyperparameter tuning using RandomizedSearchCV to generate an even more effective model."
   ]
  },
  {
   "cell_type": "code",
   "execution_count": 73,
   "metadata": {},
   "outputs": [],
   "source": [
    "# Define model\n",
    "tuning_model = XGBRegressor(random_state=0)"
   ]
  },
  {
   "cell_type": "code",
   "execution_count": 74,
   "metadata": {},
   "outputs": [],
   "source": [
    "# Defining parameters to tune\n",
    "\n",
    "tuning_parameters = {\n",
    "    'n_estimators' : [300, 500, 700, 900, 1100, 1300],\n",
    "    'learning_rate': [0.3, 0.5],\n",
    "    'min_child_weight' : [1, 3, 5, 7],\n",
    "    'max_depth' : [3, 4, 5, 6, 7],\n",
    "}"
   ]
  },
  {
   "cell_type": "code",
   "execution_count": 75,
   "metadata": {},
   "outputs": [],
   "source": [
    "# Define random search - five folds, using RMSE as evaluation\n",
    "\n",
    "random_search = RandomizedSearchCV(tuning_model, param_distributions=tuning_parameters, n_iter=10, scoring='neg_root_mean_squared_error', n_jobs=-1, cv=5)"
   ]
  },
  {
   "cell_type": "code",
   "execution_count": 76,
   "metadata": {},
   "outputs": [
    {
     "data": {
      "text/plain": [
       "RandomizedSearchCV(cv=5,\n",
       "                   estimator=XGBRegressor(base_score=None, booster=None,\n",
       "                                          colsample_bylevel=None,\n",
       "                                          colsample_bynode=None,\n",
       "                                          colsample_bytree=None, gamma=None,\n",
       "                                          gpu_id=None, importance_type='gain',\n",
       "                                          interaction_constraints=None,\n",
       "                                          learning_rate=None,\n",
       "                                          max_delta_step=None, max_depth=None,\n",
       "                                          min_child_weight=None, missing=nan,\n",
       "                                          monotone_constraints=None,\n",
       "                                          n_estimators=100, n...\n",
       "                                          num_parallel_tree=None,\n",
       "                                          random_state=0, reg_alpha=None,\n",
       "                                          reg_lambda=None,\n",
       "                                          scale_pos_weight=None, subsample=None,\n",
       "                                          tree_method=None,\n",
       "                                          validate_parameters=None,\n",
       "                                          verbosity=None),\n",
       "                   n_jobs=-1,\n",
       "                   param_distributions={'learning_rate': [0.3, 0.5],\n",
       "                                        'max_depth': [3, 4, 5, 6, 7],\n",
       "                                        'min_child_weight': [1, 3, 5, 7],\n",
       "                                        'n_estimators': [300, 500, 700, 900,\n",
       "                                                         1100, 1300]},\n",
       "                   scoring='neg_root_mean_squared_error')"
      ]
     },
     "execution_count": 76,
     "metadata": {},
     "output_type": "execute_result"
    }
   ],
   "source": [
    "# Fit using full training data\n",
    "\n",
    "random_search.fit(pt_X_fulltrain, y)"
   ]
  },
  {
   "cell_type": "code",
   "execution_count": 77,
   "metadata": {
    "scrolled": true
   },
   "outputs": [
    {
     "data": {
      "text/plain": [
       "{'n_estimators': 1100,\n",
       " 'min_child_weight': 3,\n",
       " 'max_depth': 5,\n",
       " 'learning_rate': 0.3}"
      ]
     },
     "execution_count": 77,
     "metadata": {},
     "output_type": "execute_result"
    }
   ],
   "source": [
    "# Get best parameters of those tried by the random search\n",
    "\n",
    "random_search.best_params_"
   ]
  },
  {
   "cell_type": "markdown",
   "metadata": {},
   "source": [
    "After running random search several times, a pattern emerged in the best parameters:  \n",
    "- {'n_estimators': 1300, 'min_child_weight': 3, 'max_depth': 4, 'learning_rate': 0.3}  \n",
    "- {'n_estimators': 500, 'min_child_weight': 3, 'max_depth': 4, 'learning_rate': 0.3}  \n",
    "- {'n_estimators': 900, 'min_child_weight': 3,'max_depth': 4, 'learning_rate': 0.3}  \n",
    "\n",
    "A learning rate of 0.03, min child weight of 3 and max depth of 4 seem to be optimal. The number of estimators varied, so I ran the model with different n_estimators to investigate which gave the lowest RMSE:"
   ]
  },
  {
   "cell_type": "code",
   "execution_count": 78,
   "metadata": {},
   "outputs": [
    {
     "name": "stdout",
     "output_type": "stream",
     "text": [
      "Average RMSE score: 25754.36687703566\n"
     ]
    }
   ],
   "source": [
    "tuning_model_est = XGBRegressor(random_state=0, n_estimators=1200, learning_rate=0.03, min_child_weight=3, max_depth=4)\n",
    "\n",
    "scores = -1 * cross_val_score(tuning_model_est, pt_X_fulltrain, y,\n",
    "                                cv=5,\n",
    "                                scoring='neg_root_mean_squared_error')\n",
    "\n",
    "print(\"Average RMSE score:\", scores.mean())"
   ]
  },
  {
   "cell_type": "markdown",
   "metadata": {},
   "source": [
    "Using the number of estimators given by the search's best parameters:\n",
    "- RMSE with n_estimators=500: 25921  \n",
    "- RMSE with n_estimators=900: 25674  \n",
    "- RMSE with n_estimators=1300: 25636  \n",
    "\n",
    "As the RMSE for n_est=900 and n_est=1300 was very similar, I suspected the optimal point was somewhere inbetween them:  \n",
    "- RMSE with n_estimators=1000: 25655  \n",
    "- RMSE with n_estimators=1100: 25632  \n",
    "- RMSE with n_estimators=1200: 25636  \n",
    "\n",
    "The optimal number of estimators is 1100, so now we can fit our model with these parameters."
   ]
  },
  {
   "cell_type": "markdown",
   "metadata": {},
   "source": [
    "## Fitting the model"
   ]
  },
  {
   "cell_type": "code",
   "execution_count": 79,
   "metadata": {},
   "outputs": [],
   "source": [
    "# Define final model\n",
    "final_model = XGBRegressor(random_state=0, n_estimators=1100, learning_rate=0.03, max_depth=4, min_child_weight=3)\n",
    "\n",
    "# Create final pipeline\n",
    "final_pipeline = Pipeline(steps=[('preprocessor', preprocessor),\n",
    "                              ('model', final_model)\n",
    "                             ])"
   ]
  },
  {
   "cell_type": "code",
   "execution_count": 80,
   "metadata": {},
   "outputs": [],
   "source": [
    "# Combine the train and test data with features we have created\n",
    "\n",
    "final_X_train = pd.concat([train_data[numeric_cols + nominal_NA_cols + ordinal_NA_cols + nominal_MF_cols + ordinal_MF_cols], X_train_feat], axis=1)\n",
    "final_X_test = pd.concat([test_data[numeric_cols + nominal_NA_cols + ordinal_NA_cols + nominal_MF_cols + ordinal_MF_cols], X_test_feat], axis=1)"
   ]
  },
  {
   "cell_type": "code",
   "execution_count": 81,
   "metadata": {},
   "outputs": [
    {
     "data": {
      "text/plain": [
       "Pipeline(steps=[('preprocessor',\n",
       "                 ColumnTransformer(transformers=[('num',\n",
       "                                                  SimpleImputer(strategy='median'),\n",
       "                                                  ['Id', 'MSSubClass',\n",
       "                                                   'LotFrontage', 'LotArea',\n",
       "                                                   'OverallQual', 'OverallCond',\n",
       "                                                   'YearBuilt', 'YearRemodAdd',\n",
       "                                                   'MasVnrArea', 'BsmtFinSF1',\n",
       "                                                   'BsmtFinSF2', 'BsmtUnfSF',\n",
       "                                                   'TotalBsmtSF', '1stFlrSF',\n",
       "                                                   '2ndFlrSF', 'LowQualFinSF',\n",
       "                                                   'GrLivArea', 'BsmtFullBath',\n",
       "                                                   'BsmtHalfBath', 'Ful...\n",
       "                              colsample_bytree=1, gamma=0, gpu_id=-1,\n",
       "                              importance_type='gain',\n",
       "                              interaction_constraints='', learning_rate=0.03,\n",
       "                              max_delta_step=0, max_depth=4, min_child_weight=3,\n",
       "                              missing=nan, monotone_constraints='()',\n",
       "                              n_estimators=1100, n_jobs=8, num_parallel_tree=1,\n",
       "                              random_state=0, reg_alpha=0, reg_lambda=1,\n",
       "                              scale_pos_weight=1, subsample=1,\n",
       "                              tree_method='exact', validate_parameters=1,\n",
       "                              verbosity=None))])"
      ]
     },
     "execution_count": 81,
     "metadata": {},
     "output_type": "execute_result"
    }
   ],
   "source": [
    "# Fit the model\n",
    "final_pipeline.fit(final_X_train, y)"
   ]
  },
  {
   "cell_type": "markdown",
   "metadata": {},
   "source": [
    "## Making Predictions"
   ]
  },
  {
   "cell_type": "code",
   "execution_count": 82,
   "metadata": {
    "execution": {
     "iopub.execute_input": "2021-05-30T20:14:48.992162Z",
     "iopub.status.busy": "2021-05-30T20:14:48.991796Z",
     "iopub.status.idle": "2021-05-30T20:14:49.041464Z",
     "shell.execute_reply": "2021-05-30T20:14:49.040444Z",
     "shell.execute_reply.started": "2021-05-30T20:14:48.992126Z"
    }
   },
   "outputs": [],
   "source": [
    "# Create predictions and output them to CSV for submission\n",
    "\n",
    "test_preds = final_pipeline.predict(final_X_test)\n",
    "\n",
    "output = pd.DataFrame({'Id': test_data.Id,\n",
    "                       'SalePrice': test_preds})\n",
    "output.to_csv('submission.csv', index=False)"
   ]
  },
  {
   "cell_type": "markdown",
   "metadata": {},
   "source": [
    "Final step: submit to kaggle for results!\n",
    "\n",
    "My lowest RMSE upon submitting my test data predictions to kaggle was 13851, which ranked 1662 / 68950 for the competition."
   ]
  }
 ],
 "metadata": {
  "celltoolbar": "Attachments",
  "kernelspec": {
   "display_name": "Python 3",
   "language": "python",
   "name": "python3"
  },
  "language_info": {
   "codemirror_mode": {
    "name": "ipython",
    "version": 3
   },
   "file_extension": ".py",
   "mimetype": "text/x-python",
   "name": "python",
   "nbconvert_exporter": "python",
   "pygments_lexer": "ipython3",
   "version": "3.8.8"
  },
  "toc": {
   "base_numbering": 1,
   "nav_menu": {},
   "number_sections": false,
   "sideBar": false,
   "skip_h1_title": false,
   "title_cell": "Table of Contents",
   "title_sidebar": "Contents",
   "toc_cell": false,
   "toc_position": {},
   "toc_section_display": false,
   "toc_window_display": false
  }
 },
 "nbformat": 4,
 "nbformat_minor": 4
}
